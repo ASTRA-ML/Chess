{
 "cells": [
  {
   "cell_type": "markdown",
   "id": "round-syndication",
   "metadata": {},
   "source": [
    "## 1hr projections over 12 years 2008-2020"
   ]
  },
  {
   "cell_type": "markdown",
   "id": "invalid-momentum",
   "metadata": {},
   "source": [
    "### Seasonal Adjustment\n",
    "#### Removal of seasonality\n",
    "\n",
    "Dont forget to add more years "
   ]
  },
  {
   "cell_type": "code",
   "execution_count": 121,
   "id": "institutional-module",
   "metadata": {},
   "outputs": [],
   "source": [
    "import pandas as pd\n",
    "import matplotlib.pyplot as plt\n",
    "import numpy as np"
   ]
  },
  {
   "cell_type": "code",
   "execution_count": 122,
   "id": "changing-development",
   "metadata": {},
   "outputs": [],
   "source": [
    "df = pd.read_table('X:\\data_dumps\\OMNI2_H0_MRG1HR_203984_mega08_15.csv', sep=',', names=['time', 'kp', 'dst','ae', 'ap','al', 'au'], skiprows=1, header=None) "
   ]
  },
  {
   "cell_type": "code",
   "execution_count": 123,
   "id": "dirty-rugby",
   "metadata": {},
   "outputs": [],
   "source": [
    "#df = pd.read_table('X:\\data_dumps\\OMNI2_H0_MRG1HR_80166.csv', sep=',', names=['time', 'kp', 'ae', 'al', 'au'], skiprows=1, header=None) "
   ]
  },
  {
   "cell_type": "markdown",
   "id": "alone-american",
   "metadata": {},
   "source": [
    "###### removing missing data - we arnt looking to do anything fancy here it is just a method we are creating so droping values is fine"
   ]
  },
  {
   "cell_type": "code",
   "execution_count": 124,
   "id": "brown-sarah",
   "metadata": {},
   "outputs": [],
   "source": [
    "df = df.replace([99999.9, 9999.99, 999.99, 999999.0 ,999999.00,-99999.990000,-99999.990000, 99999, '#REF!'],np.nan)"
   ]
  },
  {
   "cell_type": "markdown",
   "id": "accomplished-lighting",
   "metadata": {},
   "source": [
    "##### We drop the year 2020 because there is no data avaliable"
   ]
  },
  {
   "cell_type": "code",
   "execution_count": 125,
   "id": "unavailable-roman",
   "metadata": {},
   "outputs": [],
   "source": [
    "df = df[~(df['time'] > '2019-12-31')]"
   ]
  },
  {
   "cell_type": "code",
   "execution_count": 126,
   "id": "considered-prophet",
   "metadata": {},
   "outputs": [
    {
     "data": {
      "text/html": [
       "<div>\n",
       "<style scoped>\n",
       "    .dataframe tbody tr th:only-of-type {\n",
       "        vertical-align: middle;\n",
       "    }\n",
       "\n",
       "    .dataframe tbody tr th {\n",
       "        vertical-align: top;\n",
       "    }\n",
       "\n",
       "    .dataframe thead th {\n",
       "        text-align: right;\n",
       "    }\n",
       "</style>\n",
       "<table border=\"1\" class=\"dataframe\">\n",
       "  <thead>\n",
       "    <tr style=\"text-align: right;\">\n",
       "      <th></th>\n",
       "      <th>time</th>\n",
       "      <th>kp</th>\n",
       "      <th>dst</th>\n",
       "      <th>ae</th>\n",
       "      <th>ap</th>\n",
       "      <th>al</th>\n",
       "      <th>au</th>\n",
       "    </tr>\n",
       "  </thead>\n",
       "  <tbody>\n",
       "    <tr>\n",
       "      <th>0</th>\n",
       "      <td>2008-01-01T23:30:00.000Z</td>\n",
       "      <td>10</td>\n",
       "      <td>-3</td>\n",
       "      <td>8</td>\n",
       "      <td>4</td>\n",
       "      <td>-2.0</td>\n",
       "      <td>6.0</td>\n",
       "    </tr>\n",
       "    <tr>\n",
       "      <th>1</th>\n",
       "      <td>2008-01-02T00:30:00.000Z</td>\n",
       "      <td>3</td>\n",
       "      <td>-1</td>\n",
       "      <td>10</td>\n",
       "      <td>2</td>\n",
       "      <td>-3.0</td>\n",
       "      <td>7.0</td>\n",
       "    </tr>\n",
       "    <tr>\n",
       "      <th>2</th>\n",
       "      <td>2008-01-02T01:30:00.000Z</td>\n",
       "      <td>3</td>\n",
       "      <td>0</td>\n",
       "      <td>10</td>\n",
       "      <td>2</td>\n",
       "      <td>-4.0</td>\n",
       "      <td>6.0</td>\n",
       "    </tr>\n",
       "    <tr>\n",
       "      <th>3</th>\n",
       "      <td>2008-01-02T02:30:00.000Z</td>\n",
       "      <td>3</td>\n",
       "      <td>-1</td>\n",
       "      <td>9</td>\n",
       "      <td>2</td>\n",
       "      <td>-5.0</td>\n",
       "      <td>4.0</td>\n",
       "    </tr>\n",
       "    <tr>\n",
       "      <th>4</th>\n",
       "      <td>2008-01-02T03:30:00.000Z</td>\n",
       "      <td>0</td>\n",
       "      <td>1</td>\n",
       "      <td>10</td>\n",
       "      <td>0</td>\n",
       "      <td>-4.0</td>\n",
       "      <td>6.0</td>\n",
       "    </tr>\n",
       "    <tr>\n",
       "      <th>...</th>\n",
       "      <td>...</td>\n",
       "      <td>...</td>\n",
       "      <td>...</td>\n",
       "      <td>...</td>\n",
       "      <td>...</td>\n",
       "      <td>...</td>\n",
       "      <td>...</td>\n",
       "    </tr>\n",
       "    <tr>\n",
       "      <th>105140</th>\n",
       "      <td>2019-12-30T19:30:00.000Z</td>\n",
       "      <td>3</td>\n",
       "      <td>5</td>\n",
       "      <td>9999</td>\n",
       "      <td>2</td>\n",
       "      <td>NaN</td>\n",
       "      <td>NaN</td>\n",
       "    </tr>\n",
       "    <tr>\n",
       "      <th>105141</th>\n",
       "      <td>2019-12-30T20:30:00.000Z</td>\n",
       "      <td>3</td>\n",
       "      <td>6</td>\n",
       "      <td>9999</td>\n",
       "      <td>2</td>\n",
       "      <td>NaN</td>\n",
       "      <td>NaN</td>\n",
       "    </tr>\n",
       "    <tr>\n",
       "      <th>105142</th>\n",
       "      <td>2019-12-30T21:30:00.000Z</td>\n",
       "      <td>7</td>\n",
       "      <td>9</td>\n",
       "      <td>9999</td>\n",
       "      <td>3</td>\n",
       "      <td>NaN</td>\n",
       "      <td>NaN</td>\n",
       "    </tr>\n",
       "    <tr>\n",
       "      <th>105143</th>\n",
       "      <td>2019-12-30T22:30:00.000Z</td>\n",
       "      <td>7</td>\n",
       "      <td>12</td>\n",
       "      <td>9999</td>\n",
       "      <td>3</td>\n",
       "      <td>NaN</td>\n",
       "      <td>NaN</td>\n",
       "    </tr>\n",
       "    <tr>\n",
       "      <th>105144</th>\n",
       "      <td>2019-12-30T23:30:00.000Z</td>\n",
       "      <td>7</td>\n",
       "      <td>12</td>\n",
       "      <td>9999</td>\n",
       "      <td>3</td>\n",
       "      <td>NaN</td>\n",
       "      <td>NaN</td>\n",
       "    </tr>\n",
       "  </tbody>\n",
       "</table>\n",
       "<p>105145 rows × 7 columns</p>\n",
       "</div>"
      ],
      "text/plain": [
       "                            time  kp  dst    ae  ap   al   au\n",
       "0       2008-01-01T23:30:00.000Z  10   -3     8   4 -2.0  6.0\n",
       "1       2008-01-02T00:30:00.000Z   3   -1    10   2 -3.0  7.0\n",
       "2       2008-01-02T01:30:00.000Z   3    0    10   2 -4.0  6.0\n",
       "3       2008-01-02T02:30:00.000Z   3   -1     9   2 -5.0  4.0\n",
       "4       2008-01-02T03:30:00.000Z   0    1    10   0 -4.0  6.0\n",
       "...                          ...  ..  ...   ...  ..  ...  ...\n",
       "105140  2019-12-30T19:30:00.000Z   3    5  9999   2  NaN  NaN\n",
       "105141  2019-12-30T20:30:00.000Z   3    6  9999   2  NaN  NaN\n",
       "105142  2019-12-30T21:30:00.000Z   7    9  9999   3  NaN  NaN\n",
       "105143  2019-12-30T22:30:00.000Z   7   12  9999   3  NaN  NaN\n",
       "105144  2019-12-30T23:30:00.000Z   7   12  9999   3  NaN  NaN\n",
       "\n",
       "[105145 rows x 7 columns]"
      ]
     },
     "execution_count": 126,
     "metadata": {},
     "output_type": "execute_result"
    }
   ],
   "source": [
    "df"
   ]
  },
  {
   "cell_type": "code",
   "execution_count": 127,
   "id": "owned-organic",
   "metadata": {},
   "outputs": [],
   "source": [
    "df2 = df.copy()"
   ]
  },
  {
   "cell_type": "code",
   "execution_count": 128,
   "id": "requested-official",
   "metadata": {
    "scrolled": true
   },
   "outputs": [
    {
     "data": {
      "text/html": [
       "<div>\n",
       "<style scoped>\n",
       "    .dataframe tbody tr th:only-of-type {\n",
       "        vertical-align: middle;\n",
       "    }\n",
       "\n",
       "    .dataframe tbody tr th {\n",
       "        vertical-align: top;\n",
       "    }\n",
       "\n",
       "    .dataframe thead th {\n",
       "        text-align: right;\n",
       "    }\n",
       "</style>\n",
       "<table border=\"1\" class=\"dataframe\">\n",
       "  <thead>\n",
       "    <tr style=\"text-align: right;\">\n",
       "      <th></th>\n",
       "      <th>time</th>\n",
       "      <th>kp</th>\n",
       "      <th>dst</th>\n",
       "      <th>ae</th>\n",
       "      <th>ap</th>\n",
       "      <th>al</th>\n",
       "      <th>au</th>\n",
       "    </tr>\n",
       "  </thead>\n",
       "  <tbody>\n",
       "    <tr>\n",
       "      <th>0</th>\n",
       "      <td>2008-01-01T23:30:00.000Z</td>\n",
       "      <td>10</td>\n",
       "      <td>-3</td>\n",
       "      <td>8</td>\n",
       "      <td>4</td>\n",
       "      <td>-2.0</td>\n",
       "      <td>6.0</td>\n",
       "    </tr>\n",
       "    <tr>\n",
       "      <th>1</th>\n",
       "      <td>2008-01-02T00:30:00.000Z</td>\n",
       "      <td>3</td>\n",
       "      <td>-1</td>\n",
       "      <td>10</td>\n",
       "      <td>2</td>\n",
       "      <td>-3.0</td>\n",
       "      <td>7.0</td>\n",
       "    </tr>\n",
       "    <tr>\n",
       "      <th>2</th>\n",
       "      <td>2008-01-02T01:30:00.000Z</td>\n",
       "      <td>3</td>\n",
       "      <td>0</td>\n",
       "      <td>10</td>\n",
       "      <td>2</td>\n",
       "      <td>-4.0</td>\n",
       "      <td>6.0</td>\n",
       "    </tr>\n",
       "    <tr>\n",
       "      <th>3</th>\n",
       "      <td>2008-01-02T02:30:00.000Z</td>\n",
       "      <td>3</td>\n",
       "      <td>-1</td>\n",
       "      <td>9</td>\n",
       "      <td>2</td>\n",
       "      <td>-5.0</td>\n",
       "      <td>4.0</td>\n",
       "    </tr>\n",
       "    <tr>\n",
       "      <th>4</th>\n",
       "      <td>2008-01-02T03:30:00.000Z</td>\n",
       "      <td>0</td>\n",
       "      <td>1</td>\n",
       "      <td>10</td>\n",
       "      <td>0</td>\n",
       "      <td>-4.0</td>\n",
       "      <td>6.0</td>\n",
       "    </tr>\n",
       "    <tr>\n",
       "      <th>...</th>\n",
       "      <td>...</td>\n",
       "      <td>...</td>\n",
       "      <td>...</td>\n",
       "      <td>...</td>\n",
       "      <td>...</td>\n",
       "      <td>...</td>\n",
       "      <td>...</td>\n",
       "    </tr>\n",
       "    <tr>\n",
       "      <th>105140</th>\n",
       "      <td>2019-12-30T19:30:00.000Z</td>\n",
       "      <td>3</td>\n",
       "      <td>5</td>\n",
       "      <td>9999</td>\n",
       "      <td>2</td>\n",
       "      <td>NaN</td>\n",
       "      <td>NaN</td>\n",
       "    </tr>\n",
       "    <tr>\n",
       "      <th>105141</th>\n",
       "      <td>2019-12-30T20:30:00.000Z</td>\n",
       "      <td>3</td>\n",
       "      <td>6</td>\n",
       "      <td>9999</td>\n",
       "      <td>2</td>\n",
       "      <td>NaN</td>\n",
       "      <td>NaN</td>\n",
       "    </tr>\n",
       "    <tr>\n",
       "      <th>105142</th>\n",
       "      <td>2019-12-30T21:30:00.000Z</td>\n",
       "      <td>7</td>\n",
       "      <td>9</td>\n",
       "      <td>9999</td>\n",
       "      <td>3</td>\n",
       "      <td>NaN</td>\n",
       "      <td>NaN</td>\n",
       "    </tr>\n",
       "    <tr>\n",
       "      <th>105143</th>\n",
       "      <td>2019-12-30T22:30:00.000Z</td>\n",
       "      <td>7</td>\n",
       "      <td>12</td>\n",
       "      <td>9999</td>\n",
       "      <td>3</td>\n",
       "      <td>NaN</td>\n",
       "      <td>NaN</td>\n",
       "    </tr>\n",
       "    <tr>\n",
       "      <th>105144</th>\n",
       "      <td>2019-12-30T23:30:00.000Z</td>\n",
       "      <td>7</td>\n",
       "      <td>12</td>\n",
       "      <td>9999</td>\n",
       "      <td>3</td>\n",
       "      <td>NaN</td>\n",
       "      <td>NaN</td>\n",
       "    </tr>\n",
       "  </tbody>\n",
       "</table>\n",
       "<p>105145 rows × 7 columns</p>\n",
       "</div>"
      ],
      "text/plain": [
       "                            time  kp  dst    ae  ap   al   au\n",
       "0       2008-01-01T23:30:00.000Z  10   -3     8   4 -2.0  6.0\n",
       "1       2008-01-02T00:30:00.000Z   3   -1    10   2 -3.0  7.0\n",
       "2       2008-01-02T01:30:00.000Z   3    0    10   2 -4.0  6.0\n",
       "3       2008-01-02T02:30:00.000Z   3   -1     9   2 -5.0  4.0\n",
       "4       2008-01-02T03:30:00.000Z   0    1    10   0 -4.0  6.0\n",
       "...                          ...  ..  ...   ...  ..  ...  ...\n",
       "105140  2019-12-30T19:30:00.000Z   3    5  9999   2  NaN  NaN\n",
       "105141  2019-12-30T20:30:00.000Z   3    6  9999   2  NaN  NaN\n",
       "105142  2019-12-30T21:30:00.000Z   7    9  9999   3  NaN  NaN\n",
       "105143  2019-12-30T22:30:00.000Z   7   12  9999   3  NaN  NaN\n",
       "105144  2019-12-30T23:30:00.000Z   7   12  9999   3  NaN  NaN\n",
       "\n",
       "[105145 rows x 7 columns]"
      ]
     },
     "execution_count": 128,
     "metadata": {},
     "output_type": "execute_result"
    }
   ],
   "source": [
    "df"
   ]
  },
  {
   "cell_type": "code",
   "execution_count": 129,
   "id": "genuine-drawing",
   "metadata": {},
   "outputs": [],
   "source": [
    "df.set_index(pd.DatetimeIndex(df['time']), inplace=True)\n",
    "del df['time']"
   ]
  },
  {
   "cell_type": "code",
   "execution_count": 130,
   "id": "bigger-rocket",
   "metadata": {},
   "outputs": [
    {
     "data": {
      "text/plain": [
       "kp         0\n",
       "dst        0\n",
       "ae         0\n",
       "ap         0\n",
       "al     16080\n",
       "au     16080\n",
       "dtype: int64"
      ]
     },
     "execution_count": 130,
     "metadata": {},
     "output_type": "execute_result"
    }
   ],
   "source": [
    "df.isna().sum()"
   ]
  },
  {
   "cell_type": "code",
   "execution_count": 131,
   "id": "advisory-support",
   "metadata": {},
   "outputs": [
    {
     "data": {
      "text/html": [
       "<div>\n",
       "<style scoped>\n",
       "    .dataframe tbody tr th:only-of-type {\n",
       "        vertical-align: middle;\n",
       "    }\n",
       "\n",
       "    .dataframe tbody tr th {\n",
       "        vertical-align: top;\n",
       "    }\n",
       "\n",
       "    .dataframe thead th {\n",
       "        text-align: right;\n",
       "    }\n",
       "</style>\n",
       "<table border=\"1\" class=\"dataframe\">\n",
       "  <thead>\n",
       "    <tr style=\"text-align: right;\">\n",
       "      <th></th>\n",
       "      <th>kp</th>\n",
       "      <th>dst</th>\n",
       "      <th>ae</th>\n",
       "      <th>ap</th>\n",
       "      <th>al</th>\n",
       "      <th>au</th>\n",
       "    </tr>\n",
       "  </thead>\n",
       "  <tbody>\n",
       "    <tr>\n",
       "      <th>count</th>\n",
       "      <td>105145.000000</td>\n",
       "      <td>105145.000000</td>\n",
       "      <td>105145.000000</td>\n",
       "      <td>105145.000000</td>\n",
       "      <td>89065.000000</td>\n",
       "      <td>89065.000000</td>\n",
       "    </tr>\n",
       "    <tr>\n",
       "      <th>mean</th>\n",
       "      <td>15.442484</td>\n",
       "      <td>-9.083922</td>\n",
       "      <td>1657.954035</td>\n",
       "      <td>7.896305</td>\n",
       "      <td>-95.235446</td>\n",
       "      <td>56.816101</td>\n",
       "    </tr>\n",
       "    <tr>\n",
       "      <th>std</th>\n",
       "      <td>12.351358</td>\n",
       "      <td>15.509505</td>\n",
       "      <td>3547.946718</td>\n",
       "      <td>10.816830</td>\n",
       "      <td>129.193519</td>\n",
       "      <td>60.793932</td>\n",
       "    </tr>\n",
       "    <tr>\n",
       "      <th>min</th>\n",
       "      <td>0.000000</td>\n",
       "      <td>-223.000000</td>\n",
       "      <td>3.000000</td>\n",
       "      <td>0.000000</td>\n",
       "      <td>-1611.000000</td>\n",
       "      <td>-152.000000</td>\n",
       "    </tr>\n",
       "    <tr>\n",
       "      <th>25%</th>\n",
       "      <td>7.000000</td>\n",
       "      <td>-16.000000</td>\n",
       "      <td>44.000000</td>\n",
       "      <td>3.000000</td>\n",
       "      <td>-123.000000</td>\n",
       "      <td>18.000000</td>\n",
       "    </tr>\n",
       "    <tr>\n",
       "      <th>50%</th>\n",
       "      <td>13.000000</td>\n",
       "      <td>-6.000000</td>\n",
       "      <td>106.000000</td>\n",
       "      <td>5.000000</td>\n",
       "      <td>-39.000000</td>\n",
       "      <td>34.000000</td>\n",
       "    </tr>\n",
       "    <tr>\n",
       "      <th>75%</th>\n",
       "      <td>23.000000</td>\n",
       "      <td>0.000000</td>\n",
       "      <td>360.000000</td>\n",
       "      <td>9.000000</td>\n",
       "      <td>-17.000000</td>\n",
       "      <td>73.000000</td>\n",
       "    </tr>\n",
       "    <tr>\n",
       "      <th>max</th>\n",
       "      <td>83.000000</td>\n",
       "      <td>77.000000</td>\n",
       "      <td>9999.000000</td>\n",
       "      <td>236.000000</td>\n",
       "      <td>15.000000</td>\n",
       "      <td>841.000000</td>\n",
       "    </tr>\n",
       "  </tbody>\n",
       "</table>\n",
       "</div>"
      ],
      "text/plain": [
       "                  kp            dst             ae             ap  \\\n",
       "count  105145.000000  105145.000000  105145.000000  105145.000000   \n",
       "mean       15.442484      -9.083922    1657.954035       7.896305   \n",
       "std        12.351358      15.509505    3547.946718      10.816830   \n",
       "min         0.000000    -223.000000       3.000000       0.000000   \n",
       "25%         7.000000     -16.000000      44.000000       3.000000   \n",
       "50%        13.000000      -6.000000     106.000000       5.000000   \n",
       "75%        23.000000       0.000000     360.000000       9.000000   \n",
       "max        83.000000      77.000000    9999.000000     236.000000   \n",
       "\n",
       "                 al            au  \n",
       "count  89065.000000  89065.000000  \n",
       "mean     -95.235446     56.816101  \n",
       "std      129.193519     60.793932  \n",
       "min    -1611.000000   -152.000000  \n",
       "25%     -123.000000     18.000000  \n",
       "50%      -39.000000     34.000000  \n",
       "75%      -17.000000     73.000000  \n",
       "max       15.000000    841.000000  "
      ]
     },
     "execution_count": 131,
     "metadata": {},
     "output_type": "execute_result"
    }
   ],
   "source": [
    "df.describe()"
   ]
  },
  {
   "cell_type": "code",
   "execution_count": 132,
   "id": "advised-pledge",
   "metadata": {},
   "outputs": [],
   "source": [
    "#df = df.rolling(180).mean()"
   ]
  },
  {
   "cell_type": "code",
   "execution_count": 133,
   "id": "authentic-fence",
   "metadata": {},
   "outputs": [],
   "source": [
    "df.dropna(inplace=True)"
   ]
  },
  {
   "cell_type": "markdown",
   "id": "looking-grant",
   "metadata": {},
   "source": [
    "#### function"
   ]
  },
  {
   "cell_type": "markdown",
   "id": "computational-medicine",
   "metadata": {},
   "source": [
    "# Method 1 Differencing"
   ]
  },
  {
   "cell_type": "code",
   "execution_count": 134,
   "id": "expressed-bunch",
   "metadata": {},
   "outputs": [],
   "source": [
    "dfr = pd.DataFrame()"
   ]
  },
  {
   "cell_type": "code",
   "execution_count": 135,
   "id": "ancient-animal",
   "metadata": {},
   "outputs": [],
   "source": [
    "import statsmodels.api as sm\n",
    "import numpy as np\n",
    "from matplotlib import pyplot\n",
    "def SeasonalityAdjustment(df, column=str):\n",
    "    new_list = []\n",
    "    df[column].isna().sum()\n",
    "    df[column].describe()\n",
    "    df[column].interpolate(inplace=True)\n",
    "    res = sm.tsa.seasonal_decompose(df[column])\n",
    "    res.plot()\n",
    "    X = df[column].values\n",
    "    diff = list()\n",
    "    days_in_year = 365\n",
    "    for i in range(days_in_year, len(X)):\n",
    "        value = X[i] - X[i - days_in_year]\n",
    "        diff.append(value)\n",
    "#     df[column].plot(kind='kde')\n",
    "#     pyplot.show()\n",
    "    # summary stats of residuals\n",
    "    print(df[column].describe())\n",
    "    return diff\n"
   ]
  },
  {
   "cell_type": "code",
   "execution_count": 136,
   "id": "advanced-stewart",
   "metadata": {},
   "outputs": [
    {
     "data": {
      "image/png": "[encoded data removed]",
      "text/plain": [
       "<Figure size 432x288 with 1 Axes>"
      ]
     },
     "metadata": {
      "needs_background": "light"
     },
     "output_type": "display_data"
    }
   ],
   "source": [
    "#Original without seasonality removed\n",
    "pyplot.plot(df.kp)\n",
    "pyplot.show()"
   ]
  },
  {
   "cell_type": "code",
   "execution_count": 137,
   "id": "binary-bacteria",
   "metadata": {},
   "outputs": [
    {
     "data": {
      "image/png": "[encoded data removed]",
      "text/plain": [
       "<Figure size 432x288 with 1 Axes>"
      ]
     },
     "metadata": {
      "needs_background": "light"
     },
     "output_type": "display_data"
    }
   ],
   "source": [
    "df['kp'].plot(kind='kde')\n",
    "pyplot.show()"
   ]
  },
  {
   "cell_type": "code",
   "execution_count": 138,
   "id": "integrated-caution",
   "metadata": {},
   "outputs": [
    {
     "name": "stdout",
     "output_type": "stream",
     "text": [
      "count    89065.000000\n",
      "mean        15.758659\n",
      "std         12.555353\n",
      "min          0.000000\n",
      "25%          7.000000\n",
      "50%         13.000000\n",
      "75%         23.000000\n",
      "max         83.000000\n",
      "Name: kp, dtype: float64\n"
     ]
    },
    {
     "data": {
      "image/png": "[encoded data removed]",
      "text/plain": [
       "<Figure size 432x288 with 4 Axes>"
      ]
     },
     "metadata": {
      "needs_background": "light"
     },
     "output_type": "display_data"
    }
   ],
   "source": [
    "column = 'kp'\n",
    "diff = SeasonalityAdjustment(df, column)"
   ]
  },
  {
   "cell_type": "code",
   "execution_count": 139,
   "id": "wrapped-devices",
   "metadata": {},
   "outputs": [
    {
     "data": {
      "image/png": "[encoded data removed]",
      "text/plain": [
       "<Figure size 432x288 with 1 Axes>"
      ]
     },
     "metadata": {
      "needs_background": "light"
     },
     "output_type": "display_data"
    }
   ],
   "source": [
    "pyplot.plot(diff)\n",
    "pyplot.show()"
   ]
  },
  {
   "cell_type": "code",
   "execution_count": null,
   "id": "undefined-municipality",
   "metadata": {},
   "outputs": [],
   "source": []
  },
  {
   "cell_type": "code",
   "execution_count": null,
   "id": "recreational-influence",
   "metadata": {},
   "outputs": [],
   "source": []
  },
  {
   "cell_type": "code",
   "execution_count": 140,
   "id": "confidential-spell",
   "metadata": {},
   "outputs": [],
   "source": [
    "# column = 'test'\n",
    "# diff = SeasonalityAdjustment(dfr, column)"
   ]
  },
  {
   "cell_type": "code",
   "execution_count": 141,
   "id": "restricted-dakota",
   "metadata": {},
   "outputs": [
    {
     "data": {
      "image/png": "[encoded data removed]",
      "text/plain": [
       "<Figure size 432x288 with 1 Axes>"
      ]
     },
     "metadata": {
      "needs_background": "light"
     },
     "output_type": "display_data"
    },
    {
     "data": {
      "image/png": "[encoded data removed]",
      "text/plain": [
       "<Figure size 432x288 with 1 Axes>"
      ]
     },
     "metadata": {
      "needs_background": "light"
     },
     "output_type": "display_data"
    },
    {
     "name": "stdout",
     "output_type": "stream",
     "text": [
      "                 kp\n",
      "count  89065.000000\n",
      "mean      15.758659\n",
      "std       12.555353\n",
      "min        0.000000\n",
      "25%        7.000000\n",
      "50%       13.000000\n",
      "75%       23.000000\n",
      "max       83.000000\n"
     ]
    }
   ],
   "source": [
    "# line plot of residuals\n",
    "residuals = pd.DataFrame(df.kp)\n",
    "residuals.plot()\n",
    "pyplot.show()\n",
    "# density plot of residuals\n",
    "residuals.plot(kind='kde')\n",
    "pyplot.show()\n",
    "# summary stats of residuals\n",
    "print(residuals.describe())"
   ]
  },
  {
   "cell_type": "code",
   "execution_count": 142,
   "id": "refined-avenue",
   "metadata": {},
   "outputs": [
    {
     "data": {
      "text/html": [
       "<div>\n",
       "<style scoped>\n",
       "    .dataframe tbody tr th:only-of-type {\n",
       "        vertical-align: middle;\n",
       "    }\n",
       "\n",
       "    .dataframe tbody tr th {\n",
       "        vertical-align: top;\n",
       "    }\n",
       "\n",
       "    .dataframe thead th {\n",
       "        text-align: right;\n",
       "    }\n",
       "</style>\n",
       "<table border=\"1\" class=\"dataframe\">\n",
       "  <thead>\n",
       "    <tr style=\"text-align: right;\">\n",
       "      <th></th>\n",
       "      <th>test</th>\n",
       "    </tr>\n",
       "  </thead>\n",
       "  <tbody>\n",
       "    <tr>\n",
       "      <th>count</th>\n",
       "      <td>88700.000000</td>\n",
       "    </tr>\n",
       "    <tr>\n",
       "      <th>mean</th>\n",
       "      <td>-0.008117</td>\n",
       "    </tr>\n",
       "    <tr>\n",
       "      <th>std</th>\n",
       "      <td>16.989341</td>\n",
       "    </tr>\n",
       "    <tr>\n",
       "      <th>min</th>\n",
       "      <td>-76.000000</td>\n",
       "    </tr>\n",
       "    <tr>\n",
       "      <th>25%</th>\n",
       "      <td>-10.000000</td>\n",
       "    </tr>\n",
       "    <tr>\n",
       "      <th>50%</th>\n",
       "      <td>0.000000</td>\n",
       "    </tr>\n",
       "    <tr>\n",
       "      <th>75%</th>\n",
       "      <td>10.000000</td>\n",
       "    </tr>\n",
       "    <tr>\n",
       "      <th>max</th>\n",
       "      <td>80.000000</td>\n",
       "    </tr>\n",
       "  </tbody>\n",
       "</table>\n",
       "</div>"
      ],
      "text/plain": [
       "               test\n",
       "count  88700.000000\n",
       "mean      -0.008117\n",
       "std       16.989341\n",
       "min      -76.000000\n",
       "25%      -10.000000\n",
       "50%        0.000000\n",
       "75%       10.000000\n",
       "max       80.000000"
      ]
     },
     "execution_count": 142,
     "metadata": {},
     "output_type": "execute_result"
    }
   ],
   "source": [
    "dfr['test'] = diff\n",
    "dfr = dfr.test.to_frame()\n",
    "dfr.describe()"
   ]
  },
  {
   "cell_type": "code",
   "execution_count": 157,
   "id": "demanding-florida",
   "metadata": {},
   "outputs": [
    {
     "data": {
      "image/png": "[encoded data removed]",
      "text/plain": [
       "<Figure size 432x288 with 1 Axes>"
      ]
     },
     "metadata": {
      "needs_background": "light"
     },
     "output_type": "display_data"
    }
   ],
   "source": [
    "dfr.test.plot(kind='kde')\n",
    "pyplot.show()"
   ]
  },
  {
   "cell_type": "code",
   "execution_count": null,
   "id": "completed-guatemala",
   "metadata": {},
   "outputs": [],
   "source": [
    "##### with a mean of or close to zero we can see that this method has worked. we can also look at the histogram and "
   ]
  },
  {
   "cell_type": "markdown",
   "id": "editorial-column",
   "metadata": {},
   "source": [
    "# Method 2"
   ]
  },
  {
   "cell_type": "code",
   "execution_count": 147,
   "id": "committed-wales",
   "metadata": {},
   "outputs": [
    {
     "name": "stdout",
     "output_type": "stream",
     "text": [
      "time\n",
      "2008-01-31 00:00:00+00:00    17.269071\n",
      "2008-02-29 00:00:00+00:00    21.159483\n",
      "2008-03-31 00:00:00+00:00    21.165323\n",
      "2008-04-30 00:00:00+00:00    18.812500\n",
      "2008-05-31 00:00:00+00:00    14.580645\n",
      "2008-06-30 00:00:00+00:00    14.845833\n",
      "2008-07-31 00:00:00+00:00    12.100806\n",
      "2008-08-31 00:00:00+00:00    10.504032\n",
      "2008-09-30 00:00:00+00:00    11.741667\n",
      "2008-10-31 00:00:00+00:00    13.358871\n",
      "2008-11-30 00:00:00+00:00     9.000000\n",
      "2008-12-31 00:00:00+00:00     9.875000\n",
      "2009-01-31 00:00:00+00:00    10.189516\n",
      "Freq: M, Name: kp, dtype: float64\n"
     ]
    },
    {
     "name": "stderr",
     "output_type": "stream",
     "text": [
      "F:\\Astra\\conda2\\envs\\Austin\\lib\\site-packages\\pandas\\core\\arrays\\datetimes.py:1102: UserWarning: Converting to PeriodArray/Index representation will drop timezone information.\n",
      "  UserWarning,\n"
     ]
    },
    {
     "data": {
      "image/png": "[encoded data removed]",
      "text/plain": [
       "<Figure size 432x288 with 1 Axes>"
      ]
     },
     "metadata": {
      "needs_background": "light"
     },
     "output_type": "display_data"
    }
   ],
   "source": []
  },
  {
   "cell_type": "code",
   "execution_count": null,
   "id": "cross-criterion",
   "metadata": {},
   "outputs": [],
   "source": []
  },
  {
   "cell_type": "markdown",
   "id": "buried-clearing",
   "metadata": {},
   "source": [
    "# Method 2 Auto Regressive Integrated Moving Average'"
   ]
  },
  {
   "cell_type": "code",
   "execution_count": 149,
   "id": "historical-start",
   "metadata": {},
   "outputs": [],
   "source": [
    "from matplotlib import pyplot\n",
    "from numpy import polyfit"
   ]
  },
  {
   "cell_type": "code",
   "execution_count": 153,
   "id": "engaging-torture",
   "metadata": {},
   "outputs": [
    {
     "data": {
      "text/plain": [
       "count    89065.000000\n",
       "mean        15.758659\n",
       "std         12.555353\n",
       "min          0.000000\n",
       "25%          7.000000\n",
       "50%         13.000000\n",
       "75%         23.000000\n",
       "max         83.000000\n",
       "Name: kp, dtype: float64"
      ]
     },
     "execution_count": 153,
     "metadata": {},
     "output_type": "execute_result"
    }
   ],
   "source": [
    "df.kp.describe()"
   ]
  },
  {
   "cell_type": "markdown",
   "id": "selective-nickname",
   "metadata": {},
   "source": [
    "### ARIMA models\n",
    "###### Auto Regressive Integrated Moving Average'"
   ]
  },
  {
   "cell_type": "code",
   "execution_count": 154,
   "id": "corrected-attention",
   "metadata": {},
   "outputs": [],
   "source": [
    "#https://www.statsmodels.org/stable/index.html#"
   ]
  },
  {
   "cell_type": "code",
   "execution_count": 155,
   "id": "steady-weekend",
   "metadata": {
    "scrolled": true
   },
   "outputs": [
    {
     "name": "stderr",
     "output_type": "stream",
     "text": [
      "F:\\Astra\\conda2\\envs\\Austin\\lib\\site-packages\\statsmodels\\tsa\\base\\tsa_model.py:527: ValueWarning: No frequency information was provided, so inferred frequency H will be used.\n",
      "  % freq, ValueWarning)\n",
      "F:\\Astra\\conda2\\envs\\Austin\\lib\\site-packages\\statsmodels\\tsa\\base\\tsa_model.py:527: ValueWarning: No frequency information was provided, so inferred frequency H will be used.\n",
      "  % freq, ValueWarning)\n",
      "F:\\Astra\\conda2\\envs\\Austin\\lib\\site-packages\\statsmodels\\tsa\\base\\tsa_model.py:527: ValueWarning: No frequency information was provided, so inferred frequency H will be used.\n",
      "  % freq, ValueWarning)\n"
     ]
    },
    {
     "name": "stdout",
     "output_type": "stream",
     "text": [
      "                               SARIMAX Results                                \n",
      "==============================================================================\n",
      "Dep. Variable:                     kp   No. Observations:                89065\n",
      "Model:                 ARIMA(1, 0, 0)   Log Likelihood             -263217.130\n",
      "Date:                Fri, 09 Apr 2021   AIC                         526440.260\n",
      "Time:                        13:21:50   BIC                         526468.451\n",
      "Sample:                    01-01-2008   HQIC                        526448.860\n",
      "                         - 02-28-2018                                         \n",
      "Covariance Type:                  opg                                         \n",
      "==============================================================================\n",
      "                 coef    std err          z      P>|z|      [0.025      0.975]\n",
      "------------------------------------------------------------------------------\n",
      "const         15.7587      0.246     64.119      0.000      15.277      16.240\n",
      "ar.L1          0.9290      0.001    734.968      0.000       0.926       0.931\n",
      "sigma2        21.6020      0.048    446.793      0.000      21.507      21.697\n",
      "===================================================================================\n",
      "Ljung-Box (L1) (Q):                 104.29   Jarque-Bera (JB):            341405.55\n",
      "Prob(Q):                              0.00   Prob(JB):                         0.00\n",
      "Heteroskedasticity (H):               1.45   Skew:                             0.43\n",
      "Prob(H) (two-sided):                  0.00   Kurtosis:                        12.55\n",
      "===================================================================================\n",
      "\n",
      "Warnings:\n",
      "[1] Covariance matrix calculated using the outer product of gradients (complex-step).\n"
     ]
    }
   ],
   "source": [
    "mod = sm.tsa.arima.ARIMA(df.kp, order=(1, 0, 0))\n",
    "res = mod.fit()\n",
    "print(res.summary())"
   ]
  },
  {
   "cell_type": "markdown",
   "id": "familiar-discrimination",
   "metadata": {},
   "source": [
    "The data above looks like we removed the heteroscatasisty but we still seem to be holding a trend even with the values centered over zero"
   ]
  },
  {
   "cell_type": "code",
   "execution_count": 156,
   "id": "experimental-butler",
   "metadata": {},
   "outputs": [
    {
     "data": {
      "image/png": "[encoded data removed]",
      "text/plain": [
       "<Figure size 432x288 with 1 Axes>"
      ]
     },
     "metadata": {
      "needs_background": "light"
     },
     "output_type": "display_data"
    },
    {
     "data": {
      "image/png": "[encoded data removed]",
      "text/plain": [
       "<Figure size 432x288 with 1 Axes>"
      ]
     },
     "metadata": {
      "needs_background": "light"
     },
     "output_type": "display_data"
    },
    {
     "name": "stdout",
     "output_type": "stream",
     "text": [
      "                  0\n",
      "count  89065.000000\n",
      "mean      -0.000029\n",
      "std        4.647832\n",
      "min      -39.643852\n",
      "25%       -0.906408\n",
      "50%       -0.195982\n",
      "75%        0.798614\n",
      "max       50.798614\n"
     ]
    }
   ],
   "source": [
    "# line plot of residuals\n",
    "residuals = pd.DataFrame(res.resid)\n",
    "residuals.plot()\n",
    "pyplot.show()\n",
    "# density plot of residuals\n",
    "residuals.plot(kind='kde')\n",
    "pyplot.show()\n",
    "# summary stats of residuals\n",
    "print(residuals.describe())"
   ]
  },
  {
   "cell_type": "markdown",
   "id": "dressed-colony",
   "metadata": {},
   "source": []
  }
 ],
 "metadata": {
  "kernelspec": {
   "display_name": "Python 3",
   "language": "python",
   "name": "python3"
  },
  "language_info": {
   "codemirror_mode": {
    "name": "ipython",
    "version": 3
   },
   "file_extension": ".py",
   "mimetype": "text/x-python",
   "name": "python",
   "nbconvert_exporter": "python",
   "pygments_lexer": "ipython3",
   "version": "3.7.10"
  }
 },
 "nbformat": 4,
 "nbformat_minor": 5
}
