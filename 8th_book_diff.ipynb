{
 "cells": [
  {
   "cell_type": "code",
   "execution_count": null,
   "id": "ongoing-deviation",
   "metadata": {},
   "outputs": [],
   "source": [
    "import pandas as pd\n",
    "import numpy as np\n",
    "import plotly.express as px\n",
    "import seaborn as sns"
   ]
  },
  {
   "cell_type": "code",
   "execution_count": null,
   "id": "committed-personal",
   "metadata": {},
   "outputs": [],
   "source": [
    "df = pd.read_csv('X:\\\\data_dumps\\\\6_30_2021.csv')"
   ]
  },
  {
   "cell_type": "code",
   "execution_count": null,
   "id": "center-panel",
   "metadata": {},
   "outputs": [],
   "source": [
    "pd.set_option('display.max_rows', 90) #Expand row limits to 90\n",
    "pd.set_option('display.max_columns', 90) #Expand column limit to 90"
   ]
  },
  {
   "cell_type": "code",
   "execution_count": null,
   "id": "unable-inclusion",
   "metadata": {},
   "outputs": [],
   "source": [
    "df['Date_UTC'] = df['Unnamed: 0']"
   ]
  },
  {
   "cell_type": "code",
   "execution_count": null,
   "id": "grave-strength",
   "metadata": {},
   "outputs": [],
   "source": [
    "df1,df2,df3,df4,df5 = np.array_split(df, 5)"
   ]
  },
  {
   "cell_type": "code",
   "execution_count": null,
   "id": "valid-pendant",
   "metadata": {},
   "outputs": [],
   "source": [
    "df1['db_diff'] = ((df1.dbn_nez_x.pow(2)).diff() + (df1.dbe_nez_x.pow(2)).diff())**(1/2)\n",
    "\n",
    "# (df1.dbn_nez_x.diff() + df1.dbe_nez_x.diff())**(1/2)\n",
    "df2['db_diff'] = ((df2.dbn_nez_x.pow(2)).diff() + (df2.dbe_nez_x.pow(2)).diff())**(1/2)"
   ]
  },
  {
   "cell_type": "code",
   "execution_count": null,
   "id": "southwest-investing",
   "metadata": {},
   "outputs": [],
   "source": [
    "#Forward fill missing values\n",
    "df1['db_diff'] = df1['db_diff'].fillna(method='ffill')\n",
    "\n",
    "df2['db_diff'] = df2['db_diff'].fillna(method='ffill')"
   ]
  },
  {
   "cell_type": "code",
   "execution_count": null,
   "id": "distinct-certificate",
   "metadata": {},
   "outputs": [],
   "source": [
    "import plotly.graph_objects as go\n",
    "import pandas as pd\n",
    "\n",
    "#variables we are looking at\n",
    "#fig = px.line(df, x='Date_UTC', y='SMEr01', title='Time Series')\n",
    "\n",
    "x0='Date_UTC'\n",
    "x1='dbn_nez_x'\n",
    "x2='db_diff'\n",
    "x3='dbz_nez_x'\n",
    "def multplot(x0,x1,x2,x3):\n",
    "    fig = px.line()\n",
    "    fig.add_scatter(x=df2[x0], y=df2[x1],opacity=.4, mode='lines', name=x1)\n",
    "    fig.add_scatter(x=df2[x0], y=df2[x2],opacity=.3, mode='lines', name=x2)\n",
    "    fig.add_scatter(x=df2[x0], y=df2[x3],opacity=.5, mode='lines', name=x3)\n",
    "    #Adjustments for buttons and rangeslider\n",
    "    fig.update_xaxes(\n",
    "        rangeslider_visible=True,\n",
    "        rangeselector=dict(\n",
    "            buttons=list([\n",
    "                dict(count=1, label=\"1day\", step=\"day\", stepmode=\"backward\"),\n",
    "                dict(count=6, label=\"6m\", step=\"month\", stepmode=\"backward\"),\n",
    "                dict(count=1, label=\"YTD\", step=\"year\", stepmode=\"todate\"),\n",
    "                dict(count=1, label=\"1y\", step=\"year\", stepmode=\"backward\"),\n",
    "                dict(step=\"all\")\n",
    "            ])\n",
    "        )\n",
    "    )\n",
    "    return fig.show()\n",
    "multplot(x0,x1,x2,x3)"
   ]
  },
  {
   "cell_type": "code",
   "execution_count": null,
   "id": "generic-vegetarian",
   "metadata": {},
   "outputs": [],
   "source": []
  },
  {
   "cell_type": "code",
   "execution_count": null,
   "id": "improving-sympathy",
   "metadata": {},
   "outputs": [],
   "source": []
  },
  {
   "cell_type": "code",
   "execution_count": null,
   "id": "occasional-membrane",
   "metadata": {},
   "outputs": [],
   "source": []
  },
  {
   "cell_type": "code",
   "execution_count": null,
   "id": "informational-smooth",
   "metadata": {},
   "outputs": [],
   "source": []
  }
 ],
 "metadata": {
  "kernelspec": {
   "display_name": "Python 3",
   "language": "python",
   "name": "python3"
  },
  "language_info": {
   "codemirror_mode": {
    "name": "ipython",
    "version": 3
   },
   "file_extension": ".py",
   "mimetype": "text/x-python",
   "name": "python",
   "nbconvert_exporter": "python",
   "pygments_lexer": "ipython3",
   "version": "3.7.9"
  }
 },
 "nbformat": 4,
 "nbformat_minor": 5
}
