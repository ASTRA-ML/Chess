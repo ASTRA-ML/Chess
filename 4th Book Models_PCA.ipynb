{
 "cells": [
  {
   "cell_type": "code",
   "execution_count": 82,
   "metadata": {},
   "outputs": [],
   "source": [
    "import tensorflow as tf\n",
    "from tensorflow.keras.preprocessing.sequence import pad_sequences\n",
    "from tensorflow.keras.preprocessing.text import Tokenizer\n",
    "from tensorflow.keras.layers import Dense, Input, LSTM, Embedding, Dropout, Activation\n",
    "from tensorflow.keras.layers import Bidirectional, GlobalMaxPool1D\n",
    "from tensorflow.keras.models import Model, Sequential\n",
    "from tensorflow.compat.v1.keras.layers import CuDNNLSTM\n",
    "from tensorflow.keras import layers"
   ]
  },
  {
   "cell_type": "code",
   "execution_count": 83,
   "metadata": {},
   "outputs": [
    {
     "name": "stdout",
     "output_type": "stream",
     "text": [
      "[name: \"/device:CPU:0\"\n",
      "device_type: \"CPU\"\n",
      "memory_limit: 268435456\n",
      "locality {\n",
      "}\n",
      "incarnation: 754276659266902570\n",
      ", name: \"/device:XLA_CPU:0\"\n",
      "device_type: \"XLA_CPU\"\n",
      "memory_limit: 17179869184\n",
      "locality {\n",
      "}\n",
      "incarnation: 4080954277011013994\n",
      "physical_device_desc: \"device: XLA_CPU device\"\n",
      ", name: \"/device:XLA_GPU:0\"\n",
      "device_type: \"XLA_GPU\"\n",
      "memory_limit: 17179869184\n",
      "locality {\n",
      "}\n",
      "incarnation: 5245679242874279970\n",
      "physical_device_desc: \"device: XLA_GPU device\"\n",
      "]\n"
     ]
    },
    {
     "data": {
      "text/plain": [
       "True"
      ]
     },
     "execution_count": 83,
     "metadata": {},
     "output_type": "execute_result"
    }
   ],
   "source": [
    "import pandas as pd\n",
    "import numpy as np\n",
    "\n",
    "from tensorflow.python.client import device_lib\n",
    "print(device_lib.list_local_devices())\n",
    "#Returns whether TensorFlow was built with CUDA (GPU) support.\n",
    "tf.test.is_gpu_available()\n",
    "tf.test.is_built_with_cuda()"
   ]
  },
  {
   "cell_type": "code",
   "execution_count": 84,
   "metadata": {},
   "outputs": [],
   "source": [
    "df_merged_pca = pd.read_csv(r'pca_weakly_2018.zip', compression='zip')\n",
    "df_merged_pca = df_merged_pca.set_index('Datetime')"
   ]
  },
  {
   "cell_type": "code",
   "execution_count": null,
   "metadata": {},
   "outputs": [],
   "source": []
  },
  {
   "cell_type": "code",
   "execution_count": 86,
   "metadata": {},
   "outputs": [
    {
     "data": {
      "text/html": [
       "<div>\n",
       "<style scoped>\n",
       "    .dataframe tbody tr th:only-of-type {\n",
       "        vertical-align: middle;\n",
       "    }\n",
       "\n",
       "    .dataframe tbody tr th {\n",
       "        vertical-align: top;\n",
       "    }\n",
       "\n",
       "    .dataframe thead th {\n",
       "        text-align: right;\n",
       "    }\n",
       "</style>\n",
       "<table border=\"1\" class=\"dataframe\">\n",
       "  <thead>\n",
       "    <tr style=\"text-align: right;\">\n",
       "      <th></th>\n",
       "      <th>gic</th>\n",
       "      <th>principal component 1</th>\n",
       "      <th>principal component 2</th>\n",
       "      <th>principal component 3</th>\n",
       "    </tr>\n",
       "  </thead>\n",
       "  <tbody>\n",
       "    <tr>\n",
       "      <th>count</th>\n",
       "      <td>525600.000000</td>\n",
       "      <td>5.256000e+05</td>\n",
       "      <td>5.256000e+05</td>\n",
       "      <td>5.256000e+05</td>\n",
       "    </tr>\n",
       "    <tr>\n",
       "      <th>mean</th>\n",
       "      <td>0.003133</td>\n",
       "      <td>-5.763179e-13</td>\n",
       "      <td>9.230610e-13</td>\n",
       "      <td>2.068166e-14</td>\n",
       "    </tr>\n",
       "    <tr>\n",
       "      <th>std</th>\n",
       "      <td>0.184809</td>\n",
       "      <td>4.251697e+03</td>\n",
       "      <td>1.688399e+03</td>\n",
       "      <td>3.682194e+02</td>\n",
       "    </tr>\n",
       "    <tr>\n",
       "      <th>min</th>\n",
       "      <td>-9.220000</td>\n",
       "      <td>-4.104130e+03</td>\n",
       "      <td>-1.459002e+04</td>\n",
       "      <td>-1.377263e+03</td>\n",
       "    </tr>\n",
       "    <tr>\n",
       "      <th>25%</th>\n",
       "      <td>-0.080000</td>\n",
       "      <td>-3.342211e+03</td>\n",
       "      <td>-6.153512e+02</td>\n",
       "      <td>-1.916370e+02</td>\n",
       "    </tr>\n",
       "    <tr>\n",
       "      <th>50%</th>\n",
       "      <td>0.010000</td>\n",
       "      <td>-1.136530e+03</td>\n",
       "      <td>-2.404744e+02</td>\n",
       "      <td>-6.564193e+01</td>\n",
       "    </tr>\n",
       "    <tr>\n",
       "      <th>75%</th>\n",
       "      <td>0.090000</td>\n",
       "      <td>1.911043e+03</td>\n",
       "      <td>1.583189e+02</td>\n",
       "      <td>7.795040e+01</td>\n",
       "    </tr>\n",
       "    <tr>\n",
       "      <th>max</th>\n",
       "      <td>4.700000</td>\n",
       "      <td>3.082539e+04</td>\n",
       "      <td>1.611816e+04</td>\n",
       "      <td>4.927620e+03</td>\n",
       "    </tr>\n",
       "  </tbody>\n",
       "</table>\n",
       "</div>"
      ],
      "text/plain": [
       "                 gic  principal component 1  principal component 2  \\\n",
       "count  525600.000000           5.256000e+05           5.256000e+05   \n",
       "mean        0.003133          -5.763179e-13           9.230610e-13   \n",
       "std         0.184809           4.251697e+03           1.688399e+03   \n",
       "min        -9.220000          -4.104130e+03          -1.459002e+04   \n",
       "25%        -0.080000          -3.342211e+03          -6.153512e+02   \n",
       "50%         0.010000          -1.136530e+03          -2.404744e+02   \n",
       "75%         0.090000           1.911043e+03           1.583189e+02   \n",
       "max         4.700000           3.082539e+04           1.611816e+04   \n",
       "\n",
       "       principal component 3  \n",
       "count           5.256000e+05  \n",
       "mean            2.068166e-14  \n",
       "std             3.682194e+02  \n",
       "min            -1.377263e+03  \n",
       "25%            -1.916370e+02  \n",
       "50%            -6.564193e+01  \n",
       "75%             7.795040e+01  \n",
       "max             4.927620e+03  "
      ]
     },
     "execution_count": 86,
     "metadata": {},
     "output_type": "execute_result"
    }
   ],
   "source": [
    "df_merged_pca.describe()"
   ]
  },
  {
   "cell_type": "code",
   "execution_count": 87,
   "metadata": {},
   "outputs": [],
   "source": [
    "df_merged_original = pd.read_csv(r'master_weakly_2018.zip', compression='zip')\n",
    "df_merged_original['Datetime'] = df_merged_original['Unnamed: 0']\n",
    "df_merged_original = df_merged_original.drop(['Unnamed: 0'], axis=1)\n",
    "df_merged_original = df_merged_original.set_index('Datetime')"
   ]
  },
  {
   "cell_type": "code",
   "execution_count": 88,
   "metadata": {},
   "outputs": [],
   "source": [
    "df_merged_original = df_merged_original.replace([99999.9, 9999.99, 999.99, 999999.0 ,999999.00,-99999.990000,-99999.990000, '#REF!',np.nan ], 0)"
   ]
  },
  {
   "cell_type": "code",
   "execution_count": 91,
   "metadata": {},
   "outputs": [
    {
     "data": {
      "text/html": [
       "<div>\n",
       "<style scoped>\n",
       "    .dataframe tbody tr th:only-of-type {\n",
       "        vertical-align: middle;\n",
       "    }\n",
       "\n",
       "    .dataframe tbody tr th {\n",
       "        vertical-align: top;\n",
       "    }\n",
       "\n",
       "    .dataframe thead th {\n",
       "        text-align: right;\n",
       "    }\n",
       "</style>\n",
       "<table border=\"1\" class=\"dataframe\">\n",
       "  <thead>\n",
       "    <tr style=\"text-align: right;\">\n",
       "      <th></th>\n",
       "      <th>gic</th>\n",
       "      <th>Bz</th>\n",
       "      <th>By</th>\n",
       "      <th>Bx</th>\n",
       "      <th>clock</th>\n",
       "      <th>AE</th>\n",
       "      <th>SymH</th>\n",
       "      <th>Vsw</th>\n",
       "      <th>Dsw</th>\n",
       "      <th>Psw</th>\n",
       "      <th>...</th>\n",
       "      <th>GSM_By</th>\n",
       "      <th>GSM_Bz</th>\n",
       "      <th>GSE_Vx</th>\n",
       "      <th>GSE_Vy</th>\n",
       "      <th>GSM_Vz</th>\n",
       "      <th>CLOCK_ANGLE_GSM</th>\n",
       "      <th>DENSITY</th>\n",
       "      <th>PDYN</th>\n",
       "      <th>EPSILON</th>\n",
       "      <th>NEWELL</th>\n",
       "    </tr>\n",
       "  </thead>\n",
       "  <tbody>\n",
       "    <tr>\n",
       "      <th>count</th>\n",
       "      <td>525600.000000</td>\n",
       "      <td>525600.000000</td>\n",
       "      <td>525600.000000</td>\n",
       "      <td>525600.000000</td>\n",
       "      <td>525600.000000</td>\n",
       "      <td>525600.000000</td>\n",
       "      <td>525600.000000</td>\n",
       "      <td>525600.000000</td>\n",
       "      <td>525600.000000</td>\n",
       "      <td>525600.000000</td>\n",
       "      <td>...</td>\n",
       "      <td>525600.000000</td>\n",
       "      <td>525600.000000</td>\n",
       "      <td>525600.000000</td>\n",
       "      <td>525600.000000</td>\n",
       "      <td>525600.000000</td>\n",
       "      <td>525600.000000</td>\n",
       "      <td>525600.000000</td>\n",
       "      <td>525600.000000</td>\n",
       "      <td>525600.00000</td>\n",
       "      <td>525600.000000</td>\n",
       "    </tr>\n",
       "    <tr>\n",
       "      <th>mean</th>\n",
       "      <td>0.003133</td>\n",
       "      <td>-0.098035</td>\n",
       "      <td>-0.405388</td>\n",
       "      <td>0.151692</td>\n",
       "      <td>3.076170</td>\n",
       "      <td>17.234646</td>\n",
       "      <td>-6.446583</td>\n",
       "      <td>374.198593</td>\n",
       "      <td>6.302422</td>\n",
       "      <td>1.942079</td>\n",
       "      <td>...</td>\n",
       "      <td>-0.399487</td>\n",
       "      <td>-0.094821</td>\n",
       "      <td>314.891988</td>\n",
       "      <td>-0.421297</td>\n",
       "      <td>-2.097201</td>\n",
       "      <td>175.447564</td>\n",
       "      <td>5.369589</td>\n",
       "      <td>1.653922</td>\n",
       "      <td>60.66616</td>\n",
       "      <td>2336.427986</td>\n",
       "    </tr>\n",
       "    <tr>\n",
       "      <th>std</th>\n",
       "      <td>0.184809</td>\n",
       "      <td>2.332359</td>\n",
       "      <td>2.944742</td>\n",
       "      <td>2.895380</td>\n",
       "      <td>1.888315</td>\n",
       "      <td>63.196621</td>\n",
       "      <td>12.762283</td>\n",
       "      <td>141.655918</td>\n",
       "      <td>4.887514</td>\n",
       "      <td>1.303693</td>\n",
       "      <td>...</td>\n",
       "      <td>3.012913</td>\n",
       "      <td>2.406987</td>\n",
       "      <td>188.436645</td>\n",
       "      <td>16.216568</td>\n",
       "      <td>15.014644</td>\n",
       "      <td>108.628338</td>\n",
       "      <td>5.132704</td>\n",
       "      <td>1.416516</td>\n",
       "      <td>155.18221</td>\n",
       "      <td>2943.020818</td>\n",
       "    </tr>\n",
       "    <tr>\n",
       "      <th>min</th>\n",
       "      <td>-9.220000</td>\n",
       "      <td>-20.159200</td>\n",
       "      <td>-17.249200</td>\n",
       "      <td>-15.024000</td>\n",
       "      <td>0.000000</td>\n",
       "      <td>0.000000</td>\n",
       "      <td>-204.240000</td>\n",
       "      <td>0.000000</td>\n",
       "      <td>0.000000</td>\n",
       "      <td>0.000000</td>\n",
       "      <td>...</td>\n",
       "      <td>-17.720000</td>\n",
       "      <td>-20.940000</td>\n",
       "      <td>0.000000</td>\n",
       "      <td>-149.380000</td>\n",
       "      <td>-105.050000</td>\n",
       "      <td>0.000000</td>\n",
       "      <td>0.000000</td>\n",
       "      <td>0.000000</td>\n",
       "      <td>0.00000</td>\n",
       "      <td>0.000000</td>\n",
       "    </tr>\n",
       "    <tr>\n",
       "      <th>25%</th>\n",
       "      <td>-0.080000</td>\n",
       "      <td>-1.313600</td>\n",
       "      <td>-2.306800</td>\n",
       "      <td>-1.930000</td>\n",
       "      <td>1.431038</td>\n",
       "      <td>0.000000</td>\n",
       "      <td>-12.000000</td>\n",
       "      <td>336.148000</td>\n",
       "      <td>3.251600</td>\n",
       "      <td>1.211200</td>\n",
       "      <td>...</td>\n",
       "      <td>-2.350000</td>\n",
       "      <td>-1.350000</td>\n",
       "      <td>298.700000</td>\n",
       "      <td>-5.820000</td>\n",
       "      <td>-8.960000</td>\n",
       "      <td>80.700000</td>\n",
       "      <td>2.000000</td>\n",
       "      <td>0.800000</td>\n",
       "      <td>0.00000</td>\n",
       "      <td>0.600000</td>\n",
       "    </tr>\n",
       "    <tr>\n",
       "      <th>50%</th>\n",
       "      <td>0.010000</td>\n",
       "      <td>0.000000</td>\n",
       "      <td>-0.133267</td>\n",
       "      <td>0.000000</td>\n",
       "      <td>3.296199</td>\n",
       "      <td>0.000000</td>\n",
       "      <td>-4.520000</td>\n",
       "      <td>382.310500</td>\n",
       "      <td>5.281667</td>\n",
       "      <td>1.724800</td>\n",
       "      <td>...</td>\n",
       "      <td>-0.120000</td>\n",
       "      <td>0.000000</td>\n",
       "      <td>364.700000</td>\n",
       "      <td>0.000000</td>\n",
       "      <td>0.000000</td>\n",
       "      <td>186.900000</td>\n",
       "      <td>4.500000</td>\n",
       "      <td>1.500000</td>\n",
       "      <td>12.70000</td>\n",
       "      <td>1293.700000</td>\n",
       "    </tr>\n",
       "    <tr>\n",
       "      <th>75%</th>\n",
       "      <td>0.090000</td>\n",
       "      <td>1.190000</td>\n",
       "      <td>1.484800</td>\n",
       "      <td>2.272400</td>\n",
       "      <td>4.730171</td>\n",
       "      <td>0.000000</td>\n",
       "      <td>1.000000</td>\n",
       "      <td>448.644000</td>\n",
       "      <td>8.352400</td>\n",
       "      <td>2.479200</td>\n",
       "      <td>...</td>\n",
       "      <td>1.520000</td>\n",
       "      <td>1.220000</td>\n",
       "      <td>430.800000</td>\n",
       "      <td>7.300000</td>\n",
       "      <td>3.580000</td>\n",
       "      <td>270.800000</td>\n",
       "      <td>7.600000</td>\n",
       "      <td>2.300000</td>\n",
       "      <td>60.10000</td>\n",
       "      <td>3613.600000</td>\n",
       "    </tr>\n",
       "    <tr>\n",
       "      <th>max</th>\n",
       "      <td>4.700000</td>\n",
       "      <td>15.259600</td>\n",
       "      <td>18.298400</td>\n",
       "      <td>13.947200</td>\n",
       "      <td>6.283185</td>\n",
       "      <td>1499.280000</td>\n",
       "      <td>43.160000</td>\n",
       "      <td>717.420000</td>\n",
       "      <td>64.755767</td>\n",
       "      <td>17.449833</td>\n",
       "      <td>...</td>\n",
       "      <td>18.960000</td>\n",
       "      <td>16.070000</td>\n",
       "      <td>723.000000</td>\n",
       "      <td>125.480000</td>\n",
       "      <td>152.310000</td>\n",
       "      <td>359.900000</td>\n",
       "      <td>68.200000</td>\n",
       "      <td>18.900000</td>\n",
       "      <td>3772.10000</td>\n",
       "      <td>24949.500000</td>\n",
       "    </tr>\n",
       "  </tbody>\n",
       "</table>\n",
       "<p>8 rows × 99 columns</p>\n",
       "</div>"
      ],
      "text/plain": [
       "                 gic             Bz             By             Bx  \\\n",
       "count  525600.000000  525600.000000  525600.000000  525600.000000   \n",
       "mean        0.003133      -0.098035      -0.405388       0.151692   \n",
       "std         0.184809       2.332359       2.944742       2.895380   \n",
       "min        -9.220000     -20.159200     -17.249200     -15.024000   \n",
       "25%        -0.080000      -1.313600      -2.306800      -1.930000   \n",
       "50%         0.010000       0.000000      -0.133267       0.000000   \n",
       "75%         0.090000       1.190000       1.484800       2.272400   \n",
       "max         4.700000      15.259600      18.298400      13.947200   \n",
       "\n",
       "               clock             AE           SymH            Vsw  \\\n",
       "count  525600.000000  525600.000000  525600.000000  525600.000000   \n",
       "mean        3.076170      17.234646      -6.446583     374.198593   \n",
       "std         1.888315      63.196621      12.762283     141.655918   \n",
       "min         0.000000       0.000000    -204.240000       0.000000   \n",
       "25%         1.431038       0.000000     -12.000000     336.148000   \n",
       "50%         3.296199       0.000000      -4.520000     382.310500   \n",
       "75%         4.730171       0.000000       1.000000     448.644000   \n",
       "max         6.283185    1499.280000      43.160000     717.420000   \n",
       "\n",
       "                 Dsw            Psw  ...         GSM_By         GSM_Bz  \\\n",
       "count  525600.000000  525600.000000  ...  525600.000000  525600.000000   \n",
       "mean        6.302422       1.942079  ...      -0.399487      -0.094821   \n",
       "std         4.887514       1.303693  ...       3.012913       2.406987   \n",
       "min         0.000000       0.000000  ...     -17.720000     -20.940000   \n",
       "25%         3.251600       1.211200  ...      -2.350000      -1.350000   \n",
       "50%         5.281667       1.724800  ...      -0.120000       0.000000   \n",
       "75%         8.352400       2.479200  ...       1.520000       1.220000   \n",
       "max        64.755767      17.449833  ...      18.960000      16.070000   \n",
       "\n",
       "              GSE_Vx         GSE_Vy         GSM_Vz  CLOCK_ANGLE_GSM  \\\n",
       "count  525600.000000  525600.000000  525600.000000    525600.000000   \n",
       "mean      314.891988      -0.421297      -2.097201       175.447564   \n",
       "std       188.436645      16.216568      15.014644       108.628338   \n",
       "min         0.000000    -149.380000    -105.050000         0.000000   \n",
       "25%       298.700000      -5.820000      -8.960000        80.700000   \n",
       "50%       364.700000       0.000000       0.000000       186.900000   \n",
       "75%       430.800000       7.300000       3.580000       270.800000   \n",
       "max       723.000000     125.480000     152.310000       359.900000   \n",
       "\n",
       "             DENSITY           PDYN       EPSILON         NEWELL  \n",
       "count  525600.000000  525600.000000  525600.00000  525600.000000  \n",
       "mean        5.369589       1.653922      60.66616    2336.427986  \n",
       "std         5.132704       1.416516     155.18221    2943.020818  \n",
       "min         0.000000       0.000000       0.00000       0.000000  \n",
       "25%         2.000000       0.800000       0.00000       0.600000  \n",
       "50%         4.500000       1.500000      12.70000    1293.700000  \n",
       "75%         7.600000       2.300000      60.10000    3613.600000  \n",
       "max        68.200000      18.900000    3772.10000   24949.500000  \n",
       "\n",
       "[8 rows x 99 columns]"
      ]
     },
     "execution_count": 91,
     "metadata": {},
     "output_type": "execute_result"
    }
   ],
   "source": [
    "df_merged_original.describe()"
   ]
  },
  {
   "cell_type": "code",
   "execution_count": 22,
   "metadata": {},
   "outputs": [
    {
     "data": {
      "text/html": [
       "<div>\n",
       "<style scoped>\n",
       "    .dataframe tbody tr th:only-of-type {\n",
       "        vertical-align: middle;\n",
       "    }\n",
       "\n",
       "    .dataframe tbody tr th {\n",
       "        vertical-align: top;\n",
       "    }\n",
       "\n",
       "    .dataframe thead th {\n",
       "        text-align: right;\n",
       "    }\n",
       "</style>\n",
       "<table border=\"1\" class=\"dataframe\">\n",
       "  <thead>\n",
       "    <tr style=\"text-align: right;\">\n",
       "      <th></th>\n",
       "      <th>gic</th>\n",
       "      <th>principal component 1</th>\n",
       "      <th>principal component 2</th>\n",
       "      <th>principal component 3</th>\n",
       "    </tr>\n",
       "    <tr>\n",
       "      <th>Datetime</th>\n",
       "      <th></th>\n",
       "      <th></th>\n",
       "      <th></th>\n",
       "      <th></th>\n",
       "    </tr>\n",
       "  </thead>\n",
       "  <tbody>\n",
       "    <tr>\n",
       "      <th>2018-01-01 00:00:00</th>\n",
       "      <td>-5.5407</td>\n",
       "      <td>2522.722352</td>\n",
       "      <td>4980.099206</td>\n",
       "      <td>40.021187</td>\n",
       "    </tr>\n",
       "    <tr>\n",
       "      <th>2018-01-01 00:01:00</th>\n",
       "      <td>-5.0996</td>\n",
       "      <td>6791.115197</td>\n",
       "      <td>-1006.520481</td>\n",
       "      <td>-115.982313</td>\n",
       "    </tr>\n",
       "    <tr>\n",
       "      <th>2018-01-01 00:02:00</th>\n",
       "      <td>-4.6552</td>\n",
       "      <td>6506.883006</td>\n",
       "      <td>-1160.397033</td>\n",
       "      <td>-101.734742</td>\n",
       "    </tr>\n",
       "    <tr>\n",
       "      <th>2018-01-01 00:03:00</th>\n",
       "      <td>-4.5236</td>\n",
       "      <td>6644.695906</td>\n",
       "      <td>-1427.581950</td>\n",
       "      <td>-119.780090</td>\n",
       "    </tr>\n",
       "    <tr>\n",
       "      <th>2018-01-01 00:04:00</th>\n",
       "      <td>-4.4976</td>\n",
       "      <td>6574.535937</td>\n",
       "      <td>-1321.890212</td>\n",
       "      <td>-131.641522</td>\n",
       "    </tr>\n",
       "    <tr>\n",
       "      <th>...</th>\n",
       "      <td>...</td>\n",
       "      <td>...</td>\n",
       "      <td>...</td>\n",
       "      <td>...</td>\n",
       "    </tr>\n",
       "    <tr>\n",
       "      <th>2018-12-31 23:55:00</th>\n",
       "      <td>3.3244</td>\n",
       "      <td>-3719.834045</td>\n",
       "      <td>-364.708532</td>\n",
       "      <td>-24.776885</td>\n",
       "    </tr>\n",
       "    <tr>\n",
       "      <th>2018-12-31 23:56:00</th>\n",
       "      <td>3.2607</td>\n",
       "      <td>-3904.253743</td>\n",
       "      <td>-82.410442</td>\n",
       "      <td>-24.772698</td>\n",
       "    </tr>\n",
       "    <tr>\n",
       "      <th>2018-12-31 23:57:00</th>\n",
       "      <td>3.1755</td>\n",
       "      <td>-3864.619447</td>\n",
       "      <td>-52.205333</td>\n",
       "      <td>12.987469</td>\n",
       "    </tr>\n",
       "    <tr>\n",
       "      <th>2018-12-31 23:58:00</th>\n",
       "      <td>3.0707</td>\n",
       "      <td>-3819.373993</td>\n",
       "      <td>-18.662053</td>\n",
       "      <td>99.533414</td>\n",
       "    </tr>\n",
       "    <tr>\n",
       "      <th>2018-12-31 23:59:00</th>\n",
       "      <td>2.9475</td>\n",
       "      <td>-3774.145927</td>\n",
       "      <td>17.082347</td>\n",
       "      <td>103.482732</td>\n",
       "    </tr>\n",
       "  </tbody>\n",
       "</table>\n",
       "<p>525600 rows × 4 columns</p>\n",
       "</div>"
      ],
      "text/plain": [
       "                        gic  principal component 1  principal component 2  \\\n",
       "Datetime                                                                    \n",
       "2018-01-01 00:00:00 -5.5407            2522.722352            4980.099206   \n",
       "2018-01-01 00:01:00 -5.0996            6791.115197           -1006.520481   \n",
       "2018-01-01 00:02:00 -4.6552            6506.883006           -1160.397033   \n",
       "2018-01-01 00:03:00 -4.5236            6644.695906           -1427.581950   \n",
       "2018-01-01 00:04:00 -4.4976            6574.535937           -1321.890212   \n",
       "...                     ...                    ...                    ...   \n",
       "2018-12-31 23:55:00  3.3244           -3719.834045            -364.708532   \n",
       "2018-12-31 23:56:00  3.2607           -3904.253743             -82.410442   \n",
       "2018-12-31 23:57:00  3.1755           -3864.619447             -52.205333   \n",
       "2018-12-31 23:58:00  3.0707           -3819.373993             -18.662053   \n",
       "2018-12-31 23:59:00  2.9475           -3774.145927              17.082347   \n",
       "\n",
       "                     principal component 3  \n",
       "Datetime                                    \n",
       "2018-01-01 00:00:00              40.021187  \n",
       "2018-01-01 00:01:00            -115.982313  \n",
       "2018-01-01 00:02:00            -101.734742  \n",
       "2018-01-01 00:03:00            -119.780090  \n",
       "2018-01-01 00:04:00            -131.641522  \n",
       "...                                    ...  \n",
       "2018-12-31 23:55:00             -24.776885  \n",
       "2018-12-31 23:56:00             -24.772698  \n",
       "2018-12-31 23:57:00              12.987469  \n",
       "2018-12-31 23:58:00              99.533414  \n",
       "2018-12-31 23:59:00             103.482732  \n",
       "\n",
       "[525600 rows x 4 columns]"
      ]
     },
     "execution_count": 22,
     "metadata": {},
     "output_type": "execute_result"
    }
   ],
   "source": [
    "df_merged_pca"
   ]
  },
  {
   "cell_type": "code",
   "execution_count": 92,
   "metadata": {},
   "outputs": [],
   "source": [
    "# config values\n",
    "embed_size = 1 # how big is each word vector\n",
    "max_features = 3 # how many unique words to use (i.e num rows in embedding vector)\n",
    "maxlen = 4 # max number of words in a question to use"
   ]
  },
  {
   "cell_type": "code",
   "execution_count": 93,
   "metadata": {},
   "outputs": [],
   "source": [
    "import matplotlib.pyplot as plt\n",
    "\n",
    "plt.close('all')"
   ]
  },
  {
   "cell_type": "code",
   "execution_count": 94,
   "metadata": {},
   "outputs": [],
   "source": [
    "# df = pd.read_csv(r'C:\\Users\\cgree\\Documents\\Astra\\Space_weather5_22\\weakley_all\\example_data_in_order.csv')"
   ]
  },
  {
   "cell_type": "code",
   "execution_count": 95,
   "metadata": {},
   "outputs": [],
   "source": [
    "df1,df2,df3,df4,df5 = np.array_split(df_merged_pca, 5)"
   ]
  },
  {
   "cell_type": "code",
   "execution_count": 96,
   "metadata": {},
   "outputs": [
    {
     "data": {
      "text/plain": [
       "Index(['gic', 'principal component 1', 'principal component 2',\n",
       "       'principal component 3'],\n",
       "      dtype='object')"
      ]
     },
     "execution_count": 96,
     "metadata": {},
     "output_type": "execute_result"
    }
   ],
   "source": [
    "df1.columns"
   ]
  },
  {
   "cell_type": "code",
   "execution_count": 97,
   "metadata": {},
   "outputs": [
    {
     "data": {
      "text/plain": [
       "Index(['gic', 'principal component 1', 'principal component 2',\n",
       "       'principal component 3'],\n",
       "      dtype='object')"
      ]
     },
     "execution_count": 97,
     "metadata": {},
     "output_type": "execute_result"
    }
   ],
   "source": [
    "df1.columns"
   ]
  },
  {
   "cell_type": "code",
   "execution_count": 98,
   "metadata": {},
   "outputs": [
    {
     "data": {
      "text/html": [
       "<div>\n",
       "<style scoped>\n",
       "    .dataframe tbody tr th:only-of-type {\n",
       "        vertical-align: middle;\n",
       "    }\n",
       "\n",
       "    .dataframe tbody tr th {\n",
       "        vertical-align: top;\n",
       "    }\n",
       "\n",
       "    .dataframe thead th {\n",
       "        text-align: right;\n",
       "    }\n",
       "</style>\n",
       "<table border=\"1\" class=\"dataframe\">\n",
       "  <thead>\n",
       "    <tr style=\"text-align: right;\">\n",
       "      <th></th>\n",
       "      <th>gic</th>\n",
       "      <th>principal component 1</th>\n",
       "      <th>principal component 2</th>\n",
       "      <th>principal component 3</th>\n",
       "    </tr>\n",
       "    <tr>\n",
       "      <th>Datetime</th>\n",
       "      <th></th>\n",
       "      <th></th>\n",
       "      <th></th>\n",
       "      <th></th>\n",
       "    </tr>\n",
       "  </thead>\n",
       "  <tbody>\n",
       "    <tr>\n",
       "      <th>2018-01-01 00:00:00</th>\n",
       "      <td>0.17</td>\n",
       "      <td>2522.722352</td>\n",
       "      <td>4980.099206</td>\n",
       "      <td>40.021187</td>\n",
       "    </tr>\n",
       "    <tr>\n",
       "      <th>2018-01-01 00:01:00</th>\n",
       "      <td>0.17</td>\n",
       "      <td>6791.115197</td>\n",
       "      <td>-1006.520481</td>\n",
       "      <td>-115.982313</td>\n",
       "    </tr>\n",
       "    <tr>\n",
       "      <th>2018-01-01 00:02:00</th>\n",
       "      <td>0.22</td>\n",
       "      <td>6506.883006</td>\n",
       "      <td>-1160.397033</td>\n",
       "      <td>-101.734742</td>\n",
       "    </tr>\n",
       "    <tr>\n",
       "      <th>2018-01-01 00:03:00</th>\n",
       "      <td>0.13</td>\n",
       "      <td>6644.695906</td>\n",
       "      <td>-1427.581950</td>\n",
       "      <td>-119.780090</td>\n",
       "    </tr>\n",
       "    <tr>\n",
       "      <th>2018-01-01 00:04:00</th>\n",
       "      <td>0.09</td>\n",
       "      <td>6574.535937</td>\n",
       "      <td>-1321.890212</td>\n",
       "      <td>-131.641522</td>\n",
       "    </tr>\n",
       "  </tbody>\n",
       "</table>\n",
       "</div>"
      ],
      "text/plain": [
       "                      gic  principal component 1  principal component 2  \\\n",
       "Datetime                                                                  \n",
       "2018-01-01 00:00:00  0.17            2522.722352            4980.099206   \n",
       "2018-01-01 00:01:00  0.17            6791.115197           -1006.520481   \n",
       "2018-01-01 00:02:00  0.22            6506.883006           -1160.397033   \n",
       "2018-01-01 00:03:00  0.13            6644.695906           -1427.581950   \n",
       "2018-01-01 00:04:00  0.09            6574.535937           -1321.890212   \n",
       "\n",
       "                     principal component 3  \n",
       "Datetime                                    \n",
       "2018-01-01 00:00:00              40.021187  \n",
       "2018-01-01 00:01:00            -115.982313  \n",
       "2018-01-01 00:02:00            -101.734742  \n",
       "2018-01-01 00:03:00            -119.780090  \n",
       "2018-01-01 00:04:00            -131.641522  "
      ]
     },
     "execution_count": 98,
     "metadata": {},
     "output_type": "execute_result"
    }
   ],
   "source": [
    "df1.head()"
   ]
  },
  {
   "cell_type": "code",
   "execution_count": 99,
   "metadata": {},
   "outputs": [
    {
     "data": {
      "text/html": [
       "<div>\n",
       "<style scoped>\n",
       "    .dataframe tbody tr th:only-of-type {\n",
       "        vertical-align: middle;\n",
       "    }\n",
       "\n",
       "    .dataframe tbody tr th {\n",
       "        vertical-align: top;\n",
       "    }\n",
       "\n",
       "    .dataframe thead th {\n",
       "        text-align: right;\n",
       "    }\n",
       "</style>\n",
       "<table border=\"1\" class=\"dataframe\">\n",
       "  <thead>\n",
       "    <tr style=\"text-align: right;\">\n",
       "      <th></th>\n",
       "      <th>gic</th>\n",
       "      <th>principal component 1</th>\n",
       "      <th>principal component 2</th>\n",
       "      <th>principal component 3</th>\n",
       "    </tr>\n",
       "  </thead>\n",
       "  <tbody>\n",
       "    <tr>\n",
       "      <th>count</th>\n",
       "      <td>105120.000000</td>\n",
       "      <td>105120.000000</td>\n",
       "      <td>105120.000000</td>\n",
       "      <td>105120.000000</td>\n",
       "    </tr>\n",
       "    <tr>\n",
       "      <th>mean</th>\n",
       "      <td>0.000481</td>\n",
       "      <td>-108.854859</td>\n",
       "      <td>100.002083</td>\n",
       "      <td>-51.189752</td>\n",
       "    </tr>\n",
       "    <tr>\n",
       "      <th>std</th>\n",
       "      <td>0.148808</td>\n",
       "      <td>3912.923803</td>\n",
       "      <td>1491.786335</td>\n",
       "      <td>318.134784</td>\n",
       "    </tr>\n",
       "    <tr>\n",
       "      <th>min</th>\n",
       "      <td>-3.480000</td>\n",
       "      <td>-4103.352655</td>\n",
       "      <td>-9481.828420</td>\n",
       "      <td>-1205.716364</td>\n",
       "    </tr>\n",
       "    <tr>\n",
       "      <th>25%</th>\n",
       "      <td>-0.070000</td>\n",
       "      <td>-3336.781861</td>\n",
       "      <td>-558.646199</td>\n",
       "      <td>-222.094468</td>\n",
       "    </tr>\n",
       "    <tr>\n",
       "      <th>50%</th>\n",
       "      <td>0.010000</td>\n",
       "      <td>-1036.435610</td>\n",
       "      <td>-239.424960</td>\n",
       "      <td>-86.634101</td>\n",
       "    </tr>\n",
       "    <tr>\n",
       "      <th>75%</th>\n",
       "      <td>0.080000</td>\n",
       "      <td>1864.188823</td>\n",
       "      <td>217.032550</td>\n",
       "      <td>29.951965</td>\n",
       "    </tr>\n",
       "    <tr>\n",
       "      <th>max</th>\n",
       "      <td>2.170000</td>\n",
       "      <td>21830.066236</td>\n",
       "      <td>12021.381620</td>\n",
       "      <td>3218.444928</td>\n",
       "    </tr>\n",
       "  </tbody>\n",
       "</table>\n",
       "</div>"
      ],
      "text/plain": [
       "                 gic  principal component 1  principal component 2  \\\n",
       "count  105120.000000          105120.000000          105120.000000   \n",
       "mean        0.000481            -108.854859             100.002083   \n",
       "std         0.148808            3912.923803            1491.786335   \n",
       "min        -3.480000           -4103.352655           -9481.828420   \n",
       "25%        -0.070000           -3336.781861            -558.646199   \n",
       "50%         0.010000           -1036.435610            -239.424960   \n",
       "75%         0.080000            1864.188823             217.032550   \n",
       "max         2.170000           21830.066236           12021.381620   \n",
       "\n",
       "       principal component 3  \n",
       "count          105120.000000  \n",
       "mean              -51.189752  \n",
       "std               318.134784  \n",
       "min             -1205.716364  \n",
       "25%              -222.094468  \n",
       "50%               -86.634101  \n",
       "75%                29.951965  \n",
       "max              3218.444928  "
      ]
     },
     "execution_count": 99,
     "metadata": {},
     "output_type": "execute_result"
    }
   ],
   "source": [
    "df1.describe()"
   ]
  },
  {
   "cell_type": "markdown",
   "metadata": {},
   "source": [
    "# Normalize data"
   ]
  },
  {
   "cell_type": "code",
   "execution_count": 145,
   "metadata": {},
   "outputs": [],
   "source": [
    "import pandas as pd\n",
    "from sklearn import preprocessing\n",
    "\n",
    "x = df1.values #returns a numpy array\n",
    "min_max_scaler = preprocessing.MinMaxScaler()\n",
    "x_scaled = min_max_scaler.fit_transform(x)\n",
    "df = pd.DataFrame(x_scaled)"
   ]
  },
  {
   "cell_type": "markdown",
   "metadata": {},
   "source": [
    "# Scale"
   ]
  },
  {
   "cell_type": "code",
   "execution_count": 146,
   "metadata": {},
   "outputs": [],
   "source": [
    "import pandas as pd\n",
    "from sklearn.preprocessing import MinMaxScaler"
   ]
  },
  {
   "cell_type": "code",
   "execution_count": 147,
   "metadata": {},
   "outputs": [],
   "source": [
    "scaler = MinMaxScaler()"
   ]
  },
  {
   "cell_type": "code",
   "execution_count": 148,
   "metadata": {},
   "outputs": [
    {
     "data": {
      "text/plain": [
       "Index(['gic', 'principal component 1', 'principal component 2',\n",
       "       'principal component 3'],\n",
       "      dtype='object')"
      ]
     },
     "execution_count": 148,
     "metadata": {},
     "output_type": "execute_result"
    }
   ],
   "source": [
    "df1.columns"
   ]
  },
  {
   "cell_type": "code",
   "execution_count": 149,
   "metadata": {},
   "outputs": [],
   "source": [
    "df1[['gic', 'principal component 1', 'principal component 2',\n",
    "       'principal component 3']] = scaler.fit_transform(df1[['gic', 'principal component 1', 'principal component 2',\n",
    "       'principal component 3']])"
   ]
  },
  {
   "cell_type": "markdown",
   "metadata": {},
   "source": [
    "# Rolling Mean"
   ]
  },
  {
   "cell_type": "code",
   "execution_count": 150,
   "metadata": {},
   "outputs": [
    {
     "data": {
      "text/html": [
       "<div>\n",
       "<style scoped>\n",
       "    .dataframe tbody tr th:only-of-type {\n",
       "        vertical-align: middle;\n",
       "    }\n",
       "\n",
       "    .dataframe tbody tr th {\n",
       "        vertical-align: top;\n",
       "    }\n",
       "\n",
       "    .dataframe thead th {\n",
       "        text-align: right;\n",
       "    }\n",
       "</style>\n",
       "<table border=\"1\" class=\"dataframe\">\n",
       "  <thead>\n",
       "    <tr style=\"text-align: right;\">\n",
       "      <th></th>\n",
       "      <th>gic</th>\n",
       "      <th>principal component 1</th>\n",
       "      <th>principal component 2</th>\n",
       "      <th>principal component 3</th>\n",
       "    </tr>\n",
       "    <tr>\n",
       "      <th>Datetime</th>\n",
       "      <th></th>\n",
       "      <th></th>\n",
       "      <th></th>\n",
       "      <th></th>\n",
       "    </tr>\n",
       "  </thead>\n",
       "  <tbody>\n",
       "    <tr>\n",
       "      <th>2018-01-01 00:00:00</th>\n",
       "      <td>0.646018</td>\n",
       "      <td>0.255503</td>\n",
       "      <td>0.672547</td>\n",
       "      <td>0.281576</td>\n",
       "    </tr>\n",
       "    <tr>\n",
       "      <th>2018-01-01 00:01:00</th>\n",
       "      <td>0.646018</td>\n",
       "      <td>0.420094</td>\n",
       "      <td>0.394142</td>\n",
       "      <td>0.246314</td>\n",
       "    </tr>\n",
       "    <tr>\n",
       "      <th>2018-01-01 00:02:00</th>\n",
       "      <td>0.654867</td>\n",
       "      <td>0.409134</td>\n",
       "      <td>0.386986</td>\n",
       "      <td>0.249535</td>\n",
       "    </tr>\n",
       "    <tr>\n",
       "      <th>2018-01-01 00:03:00</th>\n",
       "      <td>0.638938</td>\n",
       "      <td>0.414448</td>\n",
       "      <td>0.374560</td>\n",
       "      <td>0.245456</td>\n",
       "    </tr>\n",
       "    <tr>\n",
       "      <th>2018-01-01 00:04:00</th>\n",
       "      <td>0.631858</td>\n",
       "      <td>0.411742</td>\n",
       "      <td>0.379475</td>\n",
       "      <td>0.242775</td>\n",
       "    </tr>\n",
       "    <tr>\n",
       "      <th>...</th>\n",
       "      <td>...</td>\n",
       "      <td>...</td>\n",
       "      <td>...</td>\n",
       "      <td>...</td>\n",
       "    </tr>\n",
       "    <tr>\n",
       "      <th>2018-03-14 23:55:00</th>\n",
       "      <td>0.612389</td>\n",
       "      <td>0.610906</td>\n",
       "      <td>0.344341</td>\n",
       "      <td>0.177561</td>\n",
       "    </tr>\n",
       "    <tr>\n",
       "      <th>2018-03-14 23:56:00</th>\n",
       "      <td>0.612389</td>\n",
       "      <td>0.641368</td>\n",
       "      <td>0.340759</td>\n",
       "      <td>0.172825</td>\n",
       "    </tr>\n",
       "    <tr>\n",
       "      <th>2018-03-14 23:57:00</th>\n",
       "      <td>0.633628</td>\n",
       "      <td>0.640827</td>\n",
       "      <td>0.380391</td>\n",
       "      <td>0.174415</td>\n",
       "    </tr>\n",
       "    <tr>\n",
       "      <th>2018-03-14 23:58:00</th>\n",
       "      <td>0.651327</td>\n",
       "      <td>0.387029</td>\n",
       "      <td>0.797935</td>\n",
       "      <td>0.225970</td>\n",
       "    </tr>\n",
       "    <tr>\n",
       "      <th>2018-03-14 23:59:00</th>\n",
       "      <td>0.693805</td>\n",
       "      <td>0.667505</td>\n",
       "      <td>0.382184</td>\n",
       "      <td>0.161298</td>\n",
       "    </tr>\n",
       "  </tbody>\n",
       "</table>\n",
       "<p>105120 rows × 4 columns</p>\n",
       "</div>"
      ],
      "text/plain": [
       "                          gic  principal component 1  principal component 2  \\\n",
       "Datetime                                                                      \n",
       "2018-01-01 00:00:00  0.646018               0.255503               0.672547   \n",
       "2018-01-01 00:01:00  0.646018               0.420094               0.394142   \n",
       "2018-01-01 00:02:00  0.654867               0.409134               0.386986   \n",
       "2018-01-01 00:03:00  0.638938               0.414448               0.374560   \n",
       "2018-01-01 00:04:00  0.631858               0.411742               0.379475   \n",
       "...                       ...                    ...                    ...   \n",
       "2018-03-14 23:55:00  0.612389               0.610906               0.344341   \n",
       "2018-03-14 23:56:00  0.612389               0.641368               0.340759   \n",
       "2018-03-14 23:57:00  0.633628               0.640827               0.380391   \n",
       "2018-03-14 23:58:00  0.651327               0.387029               0.797935   \n",
       "2018-03-14 23:59:00  0.693805               0.667505               0.382184   \n",
       "\n",
       "                     principal component 3  \n",
       "Datetime                                    \n",
       "2018-01-01 00:00:00               0.281576  \n",
       "2018-01-01 00:01:00               0.246314  \n",
       "2018-01-01 00:02:00               0.249535  \n",
       "2018-01-01 00:03:00               0.245456  \n",
       "2018-01-01 00:04:00               0.242775  \n",
       "...                                    ...  \n",
       "2018-03-14 23:55:00               0.177561  \n",
       "2018-03-14 23:56:00               0.172825  \n",
       "2018-03-14 23:57:00               0.174415  \n",
       "2018-03-14 23:58:00               0.225970  \n",
       "2018-03-14 23:59:00               0.161298  \n",
       "\n",
       "[105120 rows x 4 columns]"
      ]
     },
     "execution_count": 150,
     "metadata": {},
     "output_type": "execute_result"
    }
   ],
   "source": [
    "df1"
   ]
  },
  {
   "cell_type": "code",
   "execution_count": 151,
   "metadata": {},
   "outputs": [],
   "source": [
    "# df1r = df1.rolling(160).mean()"
   ]
  },
  {
   "cell_type": "code",
   "execution_count": 152,
   "metadata": {},
   "outputs": [],
   "source": [
    "# df1r = df1r.dropna()"
   ]
  },
  {
   "cell_type": "code",
   "execution_count": 153,
   "metadata": {},
   "outputs": [],
   "source": [
    "# df1r"
   ]
  },
  {
   "cell_type": "code",
   "execution_count": 41,
   "metadata": {},
   "outputs": [
    {
     "name": "stderr",
     "output_type": "stream",
     "text": [
      "F:\\Astra\\conda2\\envs\\Austin\\lib\\site-packages\\pandas\\plotting\\_matplotlib\\core.py:1192: UserWarning: FixedFormatter should only be used together with FixedLocator\n",
      "  ax.set_xticklabels(xticklabels)\n"
     ]
    },
    {
     "data": {
      "text/plain": [
       "<AxesSubplot:xlabel='Datetime'>"
      ]
     },
     "execution_count": 41,
     "metadata": {},
     "output_type": "execute_result"
    },
    {
     "data": {
      "image/png": "[encoded data removed]",
      "text/plain": [
       "<Figure size 432x288 with 1 Axes>"
      ]
     },
     "metadata": {
      "needs_background": "light"
     },
     "output_type": "display_data"
    }
   ],
   "source": [
    "df1.gic.plot()"
   ]
  },
  {
   "cell_type": "code",
   "execution_count": 154,
   "metadata": {},
   "outputs": [
    {
     "name": "stderr",
     "output_type": "stream",
     "text": [
      "F:\\Astra\\conda2\\envs\\Austin\\lib\\site-packages\\pandas\\plotting\\_matplotlib\\core.py:1192: UserWarning: FixedFormatter should only be used together with FixedLocator\n",
      "  ax.set_xticklabels(xticklabels)\n"
     ]
    },
    {
     "data": {
      "text/plain": [
       "<AxesSubplot:xlabel='Datetime'>"
      ]
     },
     "execution_count": 154,
     "metadata": {},
     "output_type": "execute_result"
    },
    {
     "data": {
      "image/png": "[encoded data removed]",
      "text/plain": [
       "<Figure size 432x288 with 1 Axes>"
      ]
     },
     "metadata": {
      "needs_background": "light"
     },
     "output_type": "display_data"
    }
   ],
   "source": [
    "df1.gic.plot()"
   ]
  },
  {
   "cell_type": "code",
   "execution_count": 155,
   "metadata": {},
   "outputs": [
    {
     "name": "stderr",
     "output_type": "stream",
     "text": [
      "F:\\Astra\\conda2\\envs\\Austin\\lib\\site-packages\\pandas\\plotting\\_matplotlib\\core.py:1192: UserWarning: FixedFormatter should only be used together with FixedLocator\n",
      "  ax.set_xticklabels(xticklabels)\n"
     ]
    },
    {
     "data": {
      "text/plain": [
       "<AxesSubplot:xlabel='Datetime'>"
      ]
     },
     "execution_count": 155,
     "metadata": {},
     "output_type": "execute_result"
    },
    {
     "data": {
      "image/png": "[encoded data removed]",
      "text/plain": [
       "<Figure size 432x288 with 1 Axes>"
      ]
     },
     "metadata": {
      "needs_background": "light"
     },
     "output_type": "display_data"
    }
   ],
   "source": [
    "df1.gic.plot()"
   ]
  },
  {
   "cell_type": "code",
   "execution_count": 156,
   "metadata": {},
   "outputs": [
    {
     "name": "stderr",
     "output_type": "stream",
     "text": [
      "F:\\Astra\\conda2\\envs\\Austin\\lib\\site-packages\\pandas\\plotting\\_matplotlib\\core.py:1192: UserWarning: FixedFormatter should only be used together with FixedLocator\n",
      "  ax.set_xticklabels(xticklabels)\n"
     ]
    },
    {
     "data": {
      "text/plain": [
       "<AxesSubplot:xlabel='Datetime'>"
      ]
     },
     "execution_count": 156,
     "metadata": {},
     "output_type": "execute_result"
    },
    {
     "data": {
      "text/plain": [
       "<Figure size 432x288 with 0 Axes>"
      ]
     },
     "metadata": {},
     "output_type": "display_data"
    },
    {
     "data": {
      "image/png": "[encoded data removed]",
      "text/plain": [
       "<Figure size 432x288 with 1 Axes>"
      ]
     },
     "metadata": {
      "needs_background": "light"
     },
     "output_type": "display_data"
    }
   ],
   "source": [
    "plt.figure()\n",
    "\n",
    "df1.plot()"
   ]
  },
  {
   "cell_type": "code",
   "execution_count": 157,
   "metadata": {},
   "outputs": [],
   "source": [
    "#df2.plot.bar()"
   ]
  },
  {
   "cell_type": "code",
   "execution_count": 158,
   "metadata": {},
   "outputs": [
    {
     "data": {
      "text/plain": [
       "<AxesSubplot:ylabel='Frequency'>"
      ]
     },
     "execution_count": 158,
     "metadata": {},
     "output_type": "execute_result"
    },
    {
     "data": {
      "image/png": "[encoded data removed]",
      "text/plain": [
       "<Figure size 432x288 with 1 Axes>"
      ]
     },
     "metadata": {
      "needs_background": "light"
     },
     "output_type": "display_data"
    }
   ],
   "source": [
    "df1.plot.hist(alpha=0.3)"
   ]
  },
  {
   "cell_type": "code",
   "execution_count": 159,
   "metadata": {},
   "outputs": [
    {
     "data": {
      "text/plain": [
       "<AxesSubplot:ylabel='Frequency'>"
      ]
     },
     "execution_count": 159,
     "metadata": {},
     "output_type": "execute_result"
    },
    {
     "data": {
      "image/png": "[encoded data removed]",
      "text/plain": [
       "<Figure size 432x288 with 1 Axes>"
      ]
     },
     "metadata": {
      "needs_background": "light"
     },
     "output_type": "display_data"
    }
   ],
   "source": [
    "df1.plot.hist(stacked=True, bins=105)"
   ]
  },
  {
   "cell_type": "code",
   "execution_count": 160,
   "metadata": {},
   "outputs": [
    {
     "data": {
      "text/html": [
       "<div>\n",
       "<style scoped>\n",
       "    .dataframe tbody tr th:only-of-type {\n",
       "        vertical-align: middle;\n",
       "    }\n",
       "\n",
       "    .dataframe tbody tr th {\n",
       "        vertical-align: top;\n",
       "    }\n",
       "\n",
       "    .dataframe thead th {\n",
       "        text-align: right;\n",
       "    }\n",
       "</style>\n",
       "<table border=\"1\" class=\"dataframe\">\n",
       "  <thead>\n",
       "    <tr style=\"text-align: right;\">\n",
       "      <th></th>\n",
       "      <th>principal component 1</th>\n",
       "      <th>principal component 2</th>\n",
       "      <th>principal component 3</th>\n",
       "    </tr>\n",
       "    <tr>\n",
       "      <th>gic</th>\n",
       "      <th></th>\n",
       "      <th></th>\n",
       "      <th></th>\n",
       "    </tr>\n",
       "  </thead>\n",
       "  <tbody>\n",
       "    <tr>\n",
       "      <th>0.000000</th>\n",
       "      <td>1</td>\n",
       "      <td>1</td>\n",
       "      <td>1</td>\n",
       "    </tr>\n",
       "    <tr>\n",
       "      <th>0.026549</th>\n",
       "      <td>1</td>\n",
       "      <td>1</td>\n",
       "      <td>1</td>\n",
       "    </tr>\n",
       "    <tr>\n",
       "      <th>0.051327</th>\n",
       "      <td>1</td>\n",
       "      <td>1</td>\n",
       "      <td>1</td>\n",
       "    </tr>\n",
       "    <tr>\n",
       "      <th>0.072566</th>\n",
       "      <td>1</td>\n",
       "      <td>1</td>\n",
       "      <td>1</td>\n",
       "    </tr>\n",
       "    <tr>\n",
       "      <th>0.095575</th>\n",
       "      <td>1</td>\n",
       "      <td>1</td>\n",
       "      <td>1</td>\n",
       "    </tr>\n",
       "    <tr>\n",
       "      <th>...</th>\n",
       "      <td>...</td>\n",
       "      <td>...</td>\n",
       "      <td>...</td>\n",
       "    </tr>\n",
       "    <tr>\n",
       "      <th>0.980531</th>\n",
       "      <td>1</td>\n",
       "      <td>1</td>\n",
       "      <td>1</td>\n",
       "    </tr>\n",
       "    <tr>\n",
       "      <th>0.982301</th>\n",
       "      <td>1</td>\n",
       "      <td>1</td>\n",
       "      <td>1</td>\n",
       "    </tr>\n",
       "    <tr>\n",
       "      <th>0.985841</th>\n",
       "      <td>1</td>\n",
       "      <td>1</td>\n",
       "      <td>1</td>\n",
       "    </tr>\n",
       "    <tr>\n",
       "      <th>0.996460</th>\n",
       "      <td>1</td>\n",
       "      <td>1</td>\n",
       "      <td>1</td>\n",
       "    </tr>\n",
       "    <tr>\n",
       "      <th>1.000000</th>\n",
       "      <td>1</td>\n",
       "      <td>1</td>\n",
       "      <td>1</td>\n",
       "    </tr>\n",
       "  </tbody>\n",
       "</table>\n",
       "<p>272 rows × 3 columns</p>\n",
       "</div>"
      ],
      "text/plain": [
       "          principal component 1  principal component 2  principal component 3\n",
       "gic                                                                          \n",
       "0.000000                      1                      1                      1\n",
       "0.026549                      1                      1                      1\n",
       "0.051327                      1                      1                      1\n",
       "0.072566                      1                      1                      1\n",
       "0.095575                      1                      1                      1\n",
       "...                         ...                    ...                    ...\n",
       "0.980531                      1                      1                      1\n",
       "0.982301                      1                      1                      1\n",
       "0.985841                      1                      1                      1\n",
       "0.996460                      1                      1                      1\n",
       "1.000000                      1                      1                      1\n",
       "\n",
       "[272 rows x 3 columns]"
      ]
     },
     "execution_count": 160,
     "metadata": {},
     "output_type": "execute_result"
    }
   ],
   "source": [
    "df1.groupby('gic').count()"
   ]
  },
  {
   "cell_type": "code",
   "execution_count": 161,
   "metadata": {},
   "outputs": [],
   "source": [
    "pd.set_option(\"max_rows\", 418)"
   ]
  },
  {
   "cell_type": "code",
   "execution_count": 162,
   "metadata": {},
   "outputs": [
    {
     "data": {
      "text/plain": [
       "0.617699    4618\n",
       "0.615929    4348\n",
       "0.623009    4187\n",
       "0.614159    4142\n",
       "0.621239    4093\n",
       "0.619469    3692\n",
       "0.626549    3516\n",
       "0.628319    3505\n",
       "0.608850    3342\n",
       "0.610619    3337\n",
       "0.624779    3307\n",
       "0.612389    3021\n",
       "0.631858    2687\n",
       "0.630088    2665\n",
       "0.603540    2650\n",
       "0.633628    2574\n",
       "0.605310    2544\n",
       "0.607080    2444\n",
       "0.600000    2161\n",
       "0.598230    2091\n",
       "0.637168    2061\n",
       "0.601770    2011\n",
       "0.635398    1924\n",
       "0.594690    1760\n",
       "0.640708    1626\n",
       "0.596460    1577\n",
       "0.591150    1542\n",
       "0.592920    1437\n",
       "0.638938    1410\n",
       "0.589381    1335\n",
       "0.642478    1289\n",
       "0.585841    1193\n",
       "0.587611    1082\n",
       "0.646018    1052\n",
       "0.644248    1012\n",
       "0.584071     983\n",
       "0.647788     923\n",
       "0.580531     921\n",
       "0.582301     864\n",
       "0.578761     796\n",
       "0.651327     776\n",
       "0.575221     687\n",
       "0.649558     685\n",
       "0.653097     622\n",
       "0.576991     605\n",
       "0.573451     556\n",
       "0.656637     509\n",
       "0.654867     480\n",
       "0.569912     476\n",
       "0.571681     442\n",
       "0.658407     401\n",
       "0.566372     390\n",
       "0.568142     388\n",
       "0.660177     343\n",
       "0.661947     336\n",
       "0.663717     300\n",
       "0.564602     299\n",
       "0.665487     264\n",
       "0.562832     260\n",
       "0.667257     227\n",
       "0.559292     208\n",
       "0.669027     206\n",
       "0.561062     195\n",
       "0.557522     175\n",
       "0.672566     166\n",
       "0.670796     158\n",
       "0.674336     156\n",
       "0.553982     155\n",
       "0.555752     152\n",
       "0.676106     143\n",
       "0.677876     136\n",
       "0.679646     135\n",
       "0.552212     118\n",
       "0.681416      99\n",
       "0.550442      99\n",
       "0.683186      93\n",
       "0.686726      90\n",
       "0.548673      82\n",
       "0.546903      77\n",
       "0.545133      75\n",
       "0.688496      68\n",
       "0.684956      68\n",
       "0.543363      67\n",
       "0.690265      62\n",
       "0.541593      60\n",
       "0.695575      53\n",
       "0.692035      50\n",
       "0.536283      50\n",
       "0.539823      50\n",
       "0.693805      45\n",
       "0.538053      37\n",
       "0.534513      36\n",
       "0.697345      36\n",
       "0.699115      34\n",
       "0.702655      32\n",
       "0.700885      26\n",
       "0.532743      26\n",
       "0.527434      26\n",
       "0.704425      25\n",
       "0.522124      25\n",
       "0.706195      24\n",
       "0.529204      24\n",
       "0.707965      21\n",
       "0.715044      20\n",
       "0.523894      20\n",
       "0.709735      20\n",
       "0.525664      20\n",
       "0.513274      19\n",
       "0.713274      19\n",
       "0.506195      17\n",
       "0.716814      17\n",
       "0.520354      16\n",
       "0.711504      15\n",
       "0.530973      15\n",
       "0.718584      14\n",
       "0.516814      13\n",
       "0.515044      13\n",
       "0.500885      12\n",
       "0.511504      12\n",
       "0.723894      10\n",
       "0.518584      10\n",
       "0.509735      10\n",
       "0.502655       9\n",
       "0.495575       9\n",
       "0.722124       9\n",
       "0.757522       9\n",
       "0.499115       8\n",
       "0.493805       8\n",
       "0.479646       8\n",
       "0.720354       8\n",
       "0.727434       7\n",
       "0.736283       7\n",
       "0.746903       7\n",
       "0.776991       7\n",
       "0.730973       7\n",
       "0.738053       6\n",
       "0.734513       6\n",
       "0.732743       6\n",
       "0.484956       6\n",
       "0.755752       5\n",
       "0.490265       5\n",
       "0.753982       5\n",
       "0.769912       5\n",
       "0.773451       5\n",
       "0.739823       5\n",
       "0.486726       5\n",
       "0.796460       5\n",
       "0.428319       5\n",
       "0.750442       5\n",
       "0.463717       5\n",
       "0.752212       5\n",
       "0.725664       5\n",
       "0.761062       4\n",
       "0.794690       4\n",
       "0.465487       4\n",
       "0.504425       4\n",
       "0.461947       4\n",
       "0.745133       4\n",
       "0.778761       4\n",
       "0.810619       4\n",
       "0.775221       4\n",
       "0.741593       4\n",
       "0.492035       3\n",
       "0.481416       3\n",
       "0.456637       3\n",
       "0.467257       3\n",
       "0.764602       3\n",
       "0.449558       3\n",
       "0.474336       3\n",
       "0.507965       3\n",
       "0.759292       3\n",
       "0.762832       3\n",
       "0.801770       3\n",
       "0.497345       3\n",
       "0.780531       3\n",
       "0.284956       2\n",
       "0.768142       2\n",
       "0.483186       2\n",
       "0.307965       2\n",
       "0.789381       2\n",
       "0.766372       2\n",
       "0.785841       2\n",
       "0.433628       2\n",
       "0.148673       2\n",
       "0.453097       2\n",
       "0.302655       2\n",
       "0.398230       2\n",
       "0.357522       2\n",
       "0.476106       2\n",
       "0.784071       2\n",
       "0.838938       2\n",
       "0.470796       2\n",
       "0.748673       2\n",
       "0.437168       2\n",
       "0.477876       2\n",
       "0.837168       2\n",
       "0.821239       2\n",
       "0.729204       2\n",
       "0.430088       2\n",
       "0.854867       2\n",
       "0.791150       2\n",
       "0.808850       2\n",
       "0.421239       2\n",
       "0.835398       2\n",
       "0.375221       1\n",
       "0.771681       1\n",
       "0.925664       1\n",
       "0.787611       1\n",
       "0.824779       1\n",
       "0.200000       1\n",
       "0.394690       1\n",
       "0.792920       1\n",
       "0.922124       1\n",
       "0.996460       1\n",
       "0.817699       1\n",
       "0.247788       1\n",
       "0.405310       1\n",
       "0.095575       1\n",
       "0.261947       1\n",
       "0.985841       1\n",
       "0.847788       1\n",
       "0.844248       1\n",
       "0.446018       1\n",
       "0.423009       1\n",
       "0.224779       1\n",
       "0.051327       1\n",
       "0.890265       1\n",
       "0.444248       1\n",
       "0.980531       1\n",
       "0.929204       1\n",
       "1.000000       1\n",
       "0.743363       1\n",
       "0.800000       1\n",
       "0.872566       1\n",
       "0.823009       1\n",
       "0.833628       1\n",
       "0.369912       1\n",
       "0.472566       1\n",
       "0.858407       1\n",
       "0.840708       1\n",
       "0.249558       1\n",
       "0.911504       1\n",
       "0.807080       1\n",
       "0.900885       1\n",
       "0.431858       1\n",
       "0.415929       1\n",
       "0.869027       1\n",
       "0.194690       1\n",
       "0.828319       1\n",
       "0.387611       1\n",
       "0.830088       1\n",
       "0.865487       1\n",
       "0.442478       1\n",
       "0.831858       1\n",
       "0.982301       1\n",
       "0.385841       1\n",
       "0.026549       1\n",
       "0.235398       1\n",
       "0.447788       1\n",
       "0.458407       1\n",
       "0.460177       1\n",
       "0.237168       1\n",
       "0.251327       1\n",
       "0.952212       1\n",
       "0.373451       1\n",
       "0.419469       1\n",
       "0.072566       1\n",
       "0.469027       1\n",
       "0.438938       1\n",
       "0.378761       1\n",
       "0.207080       1\n",
       "0.000000       1\n",
       "Name: gic, dtype: int64"
      ]
     },
     "execution_count": 162,
     "metadata": {},
     "output_type": "execute_result"
    }
   ],
   "source": [
    "df1['gic'].value_counts()"
   ]
  },
  {
   "cell_type": "code",
   "execution_count": 163,
   "metadata": {},
   "outputs": [],
   "source": [
    "# df['gic'].value_counts(normalize=True)"
   ]
  },
  {
   "cell_type": "code",
   "execution_count": 164,
   "metadata": {},
   "outputs": [
    {
     "data": {
      "text/html": [
       "<div>\n",
       "<style scoped>\n",
       "    .dataframe tbody tr th:only-of-type {\n",
       "        vertical-align: middle;\n",
       "    }\n",
       "\n",
       "    .dataframe tbody tr th {\n",
       "        vertical-align: top;\n",
       "    }\n",
       "\n",
       "    .dataframe thead th {\n",
       "        text-align: right;\n",
       "    }\n",
       "</style>\n",
       "<table border=\"1\" class=\"dataframe\">\n",
       "  <thead>\n",
       "    <tr style=\"text-align: right;\">\n",
       "      <th></th>\n",
       "      <th>0</th>\n",
       "      <th>1</th>\n",
       "      <th>2</th>\n",
       "      <th>3</th>\n",
       "    </tr>\n",
       "  </thead>\n",
       "  <tbody>\n",
       "    <tr>\n",
       "      <th>0</th>\n",
       "      <td>0.646018</td>\n",
       "      <td>0.255503</td>\n",
       "      <td>0.672547</td>\n",
       "      <td>0.281576</td>\n",
       "    </tr>\n",
       "    <tr>\n",
       "      <th>1</th>\n",
       "      <td>0.646018</td>\n",
       "      <td>0.420094</td>\n",
       "      <td>0.394142</td>\n",
       "      <td>0.246314</td>\n",
       "    </tr>\n",
       "    <tr>\n",
       "      <th>2</th>\n",
       "      <td>0.654867</td>\n",
       "      <td>0.409134</td>\n",
       "      <td>0.386986</td>\n",
       "      <td>0.249535</td>\n",
       "    </tr>\n",
       "    <tr>\n",
       "      <th>3</th>\n",
       "      <td>0.638938</td>\n",
       "      <td>0.414448</td>\n",
       "      <td>0.374560</td>\n",
       "      <td>0.245456</td>\n",
       "    </tr>\n",
       "    <tr>\n",
       "      <th>4</th>\n",
       "      <td>0.631858</td>\n",
       "      <td>0.411742</td>\n",
       "      <td>0.379475</td>\n",
       "      <td>0.242775</td>\n",
       "    </tr>\n",
       "    <tr>\n",
       "      <th>...</th>\n",
       "      <td>...</td>\n",
       "      <td>...</td>\n",
       "      <td>...</td>\n",
       "      <td>...</td>\n",
       "    </tr>\n",
       "    <tr>\n",
       "      <th>105115</th>\n",
       "      <td>0.612389</td>\n",
       "      <td>0.610906</td>\n",
       "      <td>0.344341</td>\n",
       "      <td>0.177561</td>\n",
       "    </tr>\n",
       "    <tr>\n",
       "      <th>105116</th>\n",
       "      <td>0.612389</td>\n",
       "      <td>0.641368</td>\n",
       "      <td>0.340759</td>\n",
       "      <td>0.172825</td>\n",
       "    </tr>\n",
       "    <tr>\n",
       "      <th>105117</th>\n",
       "      <td>0.633628</td>\n",
       "      <td>0.640827</td>\n",
       "      <td>0.380391</td>\n",
       "      <td>0.174415</td>\n",
       "    </tr>\n",
       "    <tr>\n",
       "      <th>105118</th>\n",
       "      <td>0.651327</td>\n",
       "      <td>0.387029</td>\n",
       "      <td>0.797935</td>\n",
       "      <td>0.225970</td>\n",
       "    </tr>\n",
       "    <tr>\n",
       "      <th>105119</th>\n",
       "      <td>0.693805</td>\n",
       "      <td>0.667505</td>\n",
       "      <td>0.382184</td>\n",
       "      <td>0.161298</td>\n",
       "    </tr>\n",
       "  </tbody>\n",
       "</table>\n",
       "<p>105120 rows × 4 columns</p>\n",
       "</div>"
      ],
      "text/plain": [
       "               0         1         2         3\n",
       "0       0.646018  0.255503  0.672547  0.281576\n",
       "1       0.646018  0.420094  0.394142  0.246314\n",
       "2       0.654867  0.409134  0.386986  0.249535\n",
       "3       0.638938  0.414448  0.374560  0.245456\n",
       "4       0.631858  0.411742  0.379475  0.242775\n",
       "...          ...       ...       ...       ...\n",
       "105115  0.612389  0.610906  0.344341  0.177561\n",
       "105116  0.612389  0.641368  0.340759  0.172825\n",
       "105117  0.633628  0.640827  0.380391  0.174415\n",
       "105118  0.651327  0.387029  0.797935  0.225970\n",
       "105119  0.693805  0.667505  0.382184  0.161298\n",
       "\n",
       "[105120 rows x 4 columns]"
      ]
     },
     "execution_count": 164,
     "metadata": {},
     "output_type": "execute_result"
    }
   ],
   "source": [
    "df"
   ]
  },
  {
   "cell_type": "code",
   "execution_count": 165,
   "metadata": {},
   "outputs": [],
   "source": [
    "#data cleaning\n",
    "df = df.fillna(0)\n",
    "#df.replace([np.inf, -np.inf], np.nan, inplace=True)"
   ]
  },
  {
   "cell_type": "code",
   "execution_count": 166,
   "metadata": {},
   "outputs": [
    {
     "data": {
      "text/html": [
       "<div>\n",
       "<style scoped>\n",
       "    .dataframe tbody tr th:only-of-type {\n",
       "        vertical-align: middle;\n",
       "    }\n",
       "\n",
       "    .dataframe tbody tr th {\n",
       "        vertical-align: top;\n",
       "    }\n",
       "\n",
       "    .dataframe thead th {\n",
       "        text-align: right;\n",
       "    }\n",
       "</style>\n",
       "<table border=\"1\" class=\"dataframe\">\n",
       "  <thead>\n",
       "    <tr style=\"text-align: right;\">\n",
       "      <th></th>\n",
       "      <th>0</th>\n",
       "      <th>1</th>\n",
       "      <th>2</th>\n",
       "      <th>3</th>\n",
       "    </tr>\n",
       "  </thead>\n",
       "  <tbody>\n",
       "    <tr>\n",
       "      <th>0</th>\n",
       "      <td>0.646018</td>\n",
       "      <td>0.255503</td>\n",
       "      <td>0.672547</td>\n",
       "      <td>0.281576</td>\n",
       "    </tr>\n",
       "    <tr>\n",
       "      <th>1</th>\n",
       "      <td>0.646018</td>\n",
       "      <td>0.420094</td>\n",
       "      <td>0.394142</td>\n",
       "      <td>0.246314</td>\n",
       "    </tr>\n",
       "    <tr>\n",
       "      <th>2</th>\n",
       "      <td>0.654867</td>\n",
       "      <td>0.409134</td>\n",
       "      <td>0.386986</td>\n",
       "      <td>0.249535</td>\n",
       "    </tr>\n",
       "    <tr>\n",
       "      <th>3</th>\n",
       "      <td>0.638938</td>\n",
       "      <td>0.414448</td>\n",
       "      <td>0.374560</td>\n",
       "      <td>0.245456</td>\n",
       "    </tr>\n",
       "    <tr>\n",
       "      <th>4</th>\n",
       "      <td>0.631858</td>\n",
       "      <td>0.411742</td>\n",
       "      <td>0.379475</td>\n",
       "      <td>0.242775</td>\n",
       "    </tr>\n",
       "    <tr>\n",
       "      <th>...</th>\n",
       "      <td>...</td>\n",
       "      <td>...</td>\n",
       "      <td>...</td>\n",
       "      <td>...</td>\n",
       "    </tr>\n",
       "    <tr>\n",
       "      <th>105115</th>\n",
       "      <td>0.612389</td>\n",
       "      <td>0.610906</td>\n",
       "      <td>0.344341</td>\n",
       "      <td>0.177561</td>\n",
       "    </tr>\n",
       "    <tr>\n",
       "      <th>105116</th>\n",
       "      <td>0.612389</td>\n",
       "      <td>0.641368</td>\n",
       "      <td>0.340759</td>\n",
       "      <td>0.172825</td>\n",
       "    </tr>\n",
       "    <tr>\n",
       "      <th>105117</th>\n",
       "      <td>0.633628</td>\n",
       "      <td>0.640827</td>\n",
       "      <td>0.380391</td>\n",
       "      <td>0.174415</td>\n",
       "    </tr>\n",
       "    <tr>\n",
       "      <th>105118</th>\n",
       "      <td>0.651327</td>\n",
       "      <td>0.387029</td>\n",
       "      <td>0.797935</td>\n",
       "      <td>0.225970</td>\n",
       "    </tr>\n",
       "    <tr>\n",
       "      <th>105119</th>\n",
       "      <td>0.693805</td>\n",
       "      <td>0.667505</td>\n",
       "      <td>0.382184</td>\n",
       "      <td>0.161298</td>\n",
       "    </tr>\n",
       "  </tbody>\n",
       "</table>\n",
       "<p>105120 rows × 4 columns</p>\n",
       "</div>"
      ],
      "text/plain": [
       "               0         1         2         3\n",
       "0       0.646018  0.255503  0.672547  0.281576\n",
       "1       0.646018  0.420094  0.394142  0.246314\n",
       "2       0.654867  0.409134  0.386986  0.249535\n",
       "3       0.638938  0.414448  0.374560  0.245456\n",
       "4       0.631858  0.411742  0.379475  0.242775\n",
       "...          ...       ...       ...       ...\n",
       "105115  0.612389  0.610906  0.344341  0.177561\n",
       "105116  0.612389  0.641368  0.340759  0.172825\n",
       "105117  0.633628  0.640827  0.380391  0.174415\n",
       "105118  0.651327  0.387029  0.797935  0.225970\n",
       "105119  0.693805  0.667505  0.382184  0.161298\n",
       "\n",
       "[105120 rows x 4 columns]"
      ]
     },
     "execution_count": 166,
     "metadata": {},
     "output_type": "execute_result"
    }
   ],
   "source": [
    "df"
   ]
  },
  {
   "cell_type": "code",
   "execution_count": 167,
   "metadata": {},
   "outputs": [
    {
     "ename": "AttributeError",
     "evalue": "'DataFrame' object has no attribute 'summary'",
     "output_type": "error",
     "traceback": [
      "\u001b[1;31m---------------------------------------------------------------------------\u001b[0m",
      "\u001b[1;31mAttributeError\u001b[0m                            Traceback (most recent call last)",
      "\u001b[1;32m<ipython-input-167-759307761548>\u001b[0m in \u001b[0;36m<module>\u001b[1;34m\u001b[0m\n\u001b[1;32m----> 1\u001b[1;33m \u001b[0mdf\u001b[0m\u001b[1;33m.\u001b[0m\u001b[0msummary\u001b[0m\u001b[1;33m(\u001b[0m\u001b[1;33m)\u001b[0m\u001b[1;33m\u001b[0m\u001b[1;33m\u001b[0m\u001b[0m\n\u001b[0m",
      "\u001b[1;32mF:\\Astra\\conda2\\envs\\Austin\\lib\\site-packages\\pandas\\core\\generic.py\u001b[0m in \u001b[0;36m__getattr__\u001b[1;34m(self, name)\u001b[0m\n\u001b[0;32m   5271\u001b[0m             \u001b[1;32mif\u001b[0m \u001b[0mself\u001b[0m\u001b[1;33m.\u001b[0m\u001b[0m_info_axis\u001b[0m\u001b[1;33m.\u001b[0m\u001b[0m_can_hold_identifiers_and_holds_name\u001b[0m\u001b[1;33m(\u001b[0m\u001b[0mname\u001b[0m\u001b[1;33m)\u001b[0m\u001b[1;33m:\u001b[0m\u001b[1;33m\u001b[0m\u001b[1;33m\u001b[0m\u001b[0m\n\u001b[0;32m   5272\u001b[0m                 \u001b[1;32mreturn\u001b[0m \u001b[0mself\u001b[0m\u001b[1;33m[\u001b[0m\u001b[0mname\u001b[0m\u001b[1;33m]\u001b[0m\u001b[1;33m\u001b[0m\u001b[1;33m\u001b[0m\u001b[0m\n\u001b[1;32m-> 5273\u001b[1;33m             \u001b[1;32mreturn\u001b[0m \u001b[0mobject\u001b[0m\u001b[1;33m.\u001b[0m\u001b[0m__getattribute__\u001b[0m\u001b[1;33m(\u001b[0m\u001b[0mself\u001b[0m\u001b[1;33m,\u001b[0m \u001b[0mname\u001b[0m\u001b[1;33m)\u001b[0m\u001b[1;33m\u001b[0m\u001b[1;33m\u001b[0m\u001b[0m\n\u001b[0m\u001b[0;32m   5274\u001b[0m \u001b[1;33m\u001b[0m\u001b[0m\n\u001b[0;32m   5275\u001b[0m     \u001b[1;32mdef\u001b[0m \u001b[0m__setattr__\u001b[0m\u001b[1;33m(\u001b[0m\u001b[0mself\u001b[0m\u001b[1;33m,\u001b[0m \u001b[0mname\u001b[0m\u001b[1;33m:\u001b[0m \u001b[0mstr\u001b[0m\u001b[1;33m,\u001b[0m \u001b[0mvalue\u001b[0m\u001b[1;33m)\u001b[0m \u001b[1;33m->\u001b[0m \u001b[1;32mNone\u001b[0m\u001b[1;33m:\u001b[0m\u001b[1;33m\u001b[0m\u001b[1;33m\u001b[0m\u001b[0m\n",
      "\u001b[1;31mAttributeError\u001b[0m: 'DataFrame' object has no attribute 'summary'"
     ]
    }
   ],
   "source": [
    "df.summary()"
   ]
  },
  {
   "cell_type": "code",
   "execution_count": 168,
   "metadata": {},
   "outputs": [
    {
     "data": {
      "text/plain": [
       "Index(['gic', 'principal component 1', 'principal component 2',\n",
       "       'principal component 3'],\n",
       "      dtype='object')"
      ]
     },
     "execution_count": 168,
     "metadata": {},
     "output_type": "execute_result"
    }
   ],
   "source": [
    "df1.columns"
   ]
  },
  {
   "cell_type": "code",
   "execution_count": 169,
   "metadata": {},
   "outputs": [],
   "source": [
    "#data prep\n",
    "from sklearn.model_selection import train_test_split\n",
    "from sklearn import metrics"
   ]
  },
  {
   "cell_type": "code",
   "execution_count": 170,
   "metadata": {},
   "outputs": [],
   "source": [
    "#separating gic\n",
    "y = df1['gic']\n",
    "X = df1[['principal component 1', 'principal component 2',\n",
    "       'principal component 3']]"
   ]
  },
  {
   "cell_type": "code",
   "execution_count": 171,
   "metadata": {},
   "outputs": [
    {
     "name": "stdout",
     "output_type": "stream",
     "text": [
      "Train data points:  78840\n",
      "Validation data points:  26280\n"
     ]
    }
   ],
   "source": [
    "# The input data: dividing into train (75%) and validation data (25%)\n",
    "\n",
    "x_train_len = round(X.shape[0]*0.75)\n",
    "x_train = X[:x_train_len]\n",
    "x_validation = X[x_train_len:]\n",
    "y_train = y[:x_train_len]\n",
    "y_validation = y[x_train_len:]\n",
    "\n",
    "# print Test and Validation data lenght\n",
    "print(\"Train data points: \", x_train_len)\n",
    "print(\"Validation data points: \", x_validation.shape[0])"
   ]
  },
  {
   "cell_type": "code",
   "execution_count": 172,
   "metadata": {},
   "outputs": [
    {
     "data": {
      "text/html": [
       "<div>\n",
       "<style scoped>\n",
       "    .dataframe tbody tr th:only-of-type {\n",
       "        vertical-align: middle;\n",
       "    }\n",
       "\n",
       "    .dataframe tbody tr th {\n",
       "        vertical-align: top;\n",
       "    }\n",
       "\n",
       "    .dataframe thead th {\n",
       "        text-align: right;\n",
       "    }\n",
       "</style>\n",
       "<table border=\"1\" class=\"dataframe\">\n",
       "  <thead>\n",
       "    <tr style=\"text-align: right;\">\n",
       "      <th></th>\n",
       "      <th>principal component 1</th>\n",
       "      <th>principal component 2</th>\n",
       "      <th>principal component 3</th>\n",
       "    </tr>\n",
       "    <tr>\n",
       "      <th>Datetime</th>\n",
       "      <th></th>\n",
       "      <th></th>\n",
       "      <th></th>\n",
       "    </tr>\n",
       "  </thead>\n",
       "  <tbody>\n",
       "    <tr>\n",
       "      <th>2018-01-01 00:00:00</th>\n",
       "      <td>0.255503</td>\n",
       "      <td>0.672547</td>\n",
       "      <td>0.281576</td>\n",
       "    </tr>\n",
       "    <tr>\n",
       "      <th>2018-01-01 00:01:00</th>\n",
       "      <td>0.420094</td>\n",
       "      <td>0.394142</td>\n",
       "      <td>0.246314</td>\n",
       "    </tr>\n",
       "    <tr>\n",
       "      <th>2018-01-01 00:02:00</th>\n",
       "      <td>0.409134</td>\n",
       "      <td>0.386986</td>\n",
       "      <td>0.249535</td>\n",
       "    </tr>\n",
       "    <tr>\n",
       "      <th>2018-01-01 00:03:00</th>\n",
       "      <td>0.414448</td>\n",
       "      <td>0.374560</td>\n",
       "      <td>0.245456</td>\n",
       "    </tr>\n",
       "    <tr>\n",
       "      <th>2018-01-01 00:04:00</th>\n",
       "      <td>0.411742</td>\n",
       "      <td>0.379475</td>\n",
       "      <td>0.242775</td>\n",
       "    </tr>\n",
       "    <tr>\n",
       "      <th>...</th>\n",
       "      <td>...</td>\n",
       "      <td>...</td>\n",
       "      <td>...</td>\n",
       "    </tr>\n",
       "    <tr>\n",
       "      <th>2018-03-14 23:55:00</th>\n",
       "      <td>0.610906</td>\n",
       "      <td>0.344341</td>\n",
       "      <td>0.177561</td>\n",
       "    </tr>\n",
       "    <tr>\n",
       "      <th>2018-03-14 23:56:00</th>\n",
       "      <td>0.641368</td>\n",
       "      <td>0.340759</td>\n",
       "      <td>0.172825</td>\n",
       "    </tr>\n",
       "    <tr>\n",
       "      <th>2018-03-14 23:57:00</th>\n",
       "      <td>0.640827</td>\n",
       "      <td>0.380391</td>\n",
       "      <td>0.174415</td>\n",
       "    </tr>\n",
       "    <tr>\n",
       "      <th>2018-03-14 23:58:00</th>\n",
       "      <td>0.387029</td>\n",
       "      <td>0.797935</td>\n",
       "      <td>0.225970</td>\n",
       "    </tr>\n",
       "    <tr>\n",
       "      <th>2018-03-14 23:59:00</th>\n",
       "      <td>0.667505</td>\n",
       "      <td>0.382184</td>\n",
       "      <td>0.161298</td>\n",
       "    </tr>\n",
       "  </tbody>\n",
       "</table>\n",
       "<p>105120 rows × 3 columns</p>\n",
       "</div>"
      ],
      "text/plain": [
       "                     principal component 1  principal component 2  \\\n",
       "Datetime                                                            \n",
       "2018-01-01 00:00:00               0.255503               0.672547   \n",
       "2018-01-01 00:01:00               0.420094               0.394142   \n",
       "2018-01-01 00:02:00               0.409134               0.386986   \n",
       "2018-01-01 00:03:00               0.414448               0.374560   \n",
       "2018-01-01 00:04:00               0.411742               0.379475   \n",
       "...                                    ...                    ...   \n",
       "2018-03-14 23:55:00               0.610906               0.344341   \n",
       "2018-03-14 23:56:00               0.641368               0.340759   \n",
       "2018-03-14 23:57:00               0.640827               0.380391   \n",
       "2018-03-14 23:58:00               0.387029               0.797935   \n",
       "2018-03-14 23:59:00               0.667505               0.382184   \n",
       "\n",
       "                     principal component 3  \n",
       "Datetime                                    \n",
       "2018-01-01 00:00:00               0.281576  \n",
       "2018-01-01 00:01:00               0.246314  \n",
       "2018-01-01 00:02:00               0.249535  \n",
       "2018-01-01 00:03:00               0.245456  \n",
       "2018-01-01 00:04:00               0.242775  \n",
       "...                                    ...  \n",
       "2018-03-14 23:55:00               0.177561  \n",
       "2018-03-14 23:56:00               0.172825  \n",
       "2018-03-14 23:57:00               0.174415  \n",
       "2018-03-14 23:58:00               0.225970  \n",
       "2018-03-14 23:59:00               0.161298  \n",
       "\n",
       "[105120 rows x 3 columns]"
      ]
     },
     "execution_count": 172,
     "metadata": {},
     "output_type": "execute_result"
    }
   ],
   "source": [
    "X"
   ]
  },
  {
   "cell_type": "code",
   "execution_count": 173,
   "metadata": {},
   "outputs": [],
   "source": [
    "y_validation = y_validation.reset_index(drop=True)"
   ]
  },
  {
   "cell_type": "code",
   "execution_count": 174,
   "metadata": {},
   "outputs": [
    {
     "data": {
      "text/plain": [
       "0        0.615929\n",
       "1        0.601770\n",
       "2        0.615929\n",
       "3        0.619469\n",
       "4        0.585841\n",
       "           ...   \n",
       "26275    0.612389\n",
       "26276    0.612389\n",
       "26277    0.633628\n",
       "26278    0.651327\n",
       "26279    0.693805\n",
       "Name: gic, Length: 26280, dtype: float64"
      ]
     },
     "execution_count": 174,
     "metadata": {},
     "output_type": "execute_result"
    }
   ],
   "source": [
    "y_validation"
   ]
  },
  {
   "cell_type": "markdown",
   "metadata": {},
   "source": [
    "# Building code for PCA and eigenvalues"
   ]
  },
  {
   "cell_type": "markdown",
   "metadata": {},
   "source": [
    "### ---------------------------"
   ]
  },
  {
   "cell_type": "code",
   "execution_count": 175,
   "metadata": {},
   "outputs": [],
   "source": [
    "# with gzip.open('X:\\data_dumps\\Bullrun_gic_qdc_mean_dres10_tres300.csv.gz') as f:\n",
    "#     df2 = pd.read_csv(f)"
   ]
  },
  {
   "cell_type": "code",
   "execution_count": 176,
   "metadata": {},
   "outputs": [],
   "source": [
    "# df2 = df2.replace(to_replace= r'/', value= ' ', regex=True)\n",
    "# df2"
   ]
  },
  {
   "cell_type": "code",
   "execution_count": 177,
   "metadata": {},
   "outputs": [],
   "source": [
    "# df3 = pd.read_csv(r'C:\\Users\\cgree\\Documents\\Astra\\Space_weather5_22\\2018_sm_reg.csv')\n",
    "# df3 = df3.set_index('Date_UTC')\n",
    "# df3"
   ]
  },
  {
   "cell_type": "code",
   "execution_count": 178,
   "metadata": {},
   "outputs": [],
   "source": [
    "# import pandas as pd\n",
    "\n",
    "# def clean_dataset(df):\n",
    "#     assert isinstance(df, pd.DataFrame), \"df needs to be a pd.DataFrame\"\n",
    "#     df.dropna(inplace=True)\n",
    "#     indices_to_keep = ~df.isin([np.nan, np.inf, -np.inf]).any(1)\n",
    "#     return df[indices_to_keep].astype(np.float64)\n",
    "\n",
    "# clean_dataset(df_merged)"
   ]
  },
  {
   "cell_type": "markdown",
   "metadata": {},
   "source": [
    "# ----------------"
   ]
  },
  {
   "cell_type": "markdown",
   "metadata": {},
   "source": [
    "### ------------------------------"
   ]
  },
  {
   "cell_type": "code",
   "execution_count": 179,
   "metadata": {},
   "outputs": [],
   "source": [
    "#data prep\n",
    "from sklearn.model_selection import train_test_split\n",
    "from sklearn import metrics"
   ]
  },
  {
   "cell_type": "code",
   "execution_count": 180,
   "metadata": {},
   "outputs": [
    {
     "name": "stdout",
     "output_type": "stream",
     "text": [
      "Train data points:  78840\n",
      "Validation data points:  26280\n"
     ]
    }
   ],
   "source": [
    "# The input data: dividing into train (75%) and validation data (25%)\n",
    "\n",
    "x_train_len = round(X.shape[0]*0.75)\n",
    "x_train = X[:x_train_len]\n",
    "x_validation = X[x_train_len:]\n",
    "y_train = y[:x_train_len]\n",
    "y_validation = y[x_train_len:]\n",
    "\n",
    "# print Test and Validation data lenght\n",
    "print(\"Train data points: \", x_train_len)\n",
    "print(\"Validation data points: \", x_validation.shape[0])"
   ]
  },
  {
   "cell_type": "code",
   "execution_count": 136,
   "metadata": {},
   "outputs": [],
   "source": [
    "import matplotlib.pyplot as plt\n",
    "import pandas as pd"
   ]
  },
  {
   "cell_type": "code",
   "execution_count": 140,
   "metadata": {},
   "outputs": [],
   "source": [
    "# A class that will define all the regression models as methods\n",
    "\n",
    "class Models(object):\n",
    "    \n",
    "    global seed \n",
    "    seed = 34234\n",
    "    \n",
    "    # Initialization \n",
    "    def __init__(self, x_train, x_validation, y_train, y_validation):\n",
    "        # changing input as dataframe to list\n",
    "        self.x_train = [x_train.iloc[i].tolist() for i in range(len(x_train))]\n",
    "        self.x_validation = [x_validation.iloc[i].tolist() for i in range(len(x_validation))]\n",
    "        self.y_train = y_train.tolist()\n",
    "        self.y_validation = y_validation.tolist()\n",
    "    \n",
    "    \n",
    "    @staticmethod\n",
    "    def print_info(cross_val_scores, mse, accuracy):\n",
    "        print(\"Cross Validation Scores: \", cross_val_scores)\n",
    "        print(\"Mean Squared Error: \", mse)\n",
    "        print(\"accuracy: \", accuracy)\n",
    "        \n",
    "        \n",
    "    # Linear Regression \n",
    "    def linear_regression(self, x_train, x_validation,  y_train, y_validation):\n",
    "        reg = linear_model.LinearRegression()\n",
    "        # X = np.array(X).reshape([-1, 1])\n",
    "        reg.fit(self.x_train, self.y_train)\n",
    "        y_pred_list = reg.predict(self.x_validation)\n",
    "        plt.plot(y_pred_list)\n",
    "        plt.plot(y_validation)\n",
    "        plt.ylabel('GIC')\n",
    "        plt.show()\n",
    "        mse = mean_squared_error(self.y_validation, y_pred_list)\n",
    "        accuracy = reg.score(self.x_validation,self.y_validation)\n",
    "        kfold = model_selection.KFold(n_splits=10, shuffle=True, random_state=seed)\n",
    "        cross_val_scores = cross_val_score(reg, self.x_train, self.y_train, cv=kfold)\n",
    "        print(\"\\nLinear Regression Model\")\n",
    "        self.print_info(cross_val_scores, mse, accuracy)\n",
    "        return cross_val_scores, mse, accuracy\n",
    "        \n",
    "    # Random Forest Regression model \n",
    "    def random_forest(self, x_train, x_validation,  y_train, y_validation):\n",
    "        rfr = RandomForestRegressor(n_estimators=8, max_depth=8, random_state=12, verbose=0)\n",
    "        # X = np.array(X).reshape([-1, 1])\n",
    "        rfr.fit(self.x_train, self.y_train)\n",
    "        y_pred_list = rfr.predict(self.x_validation)\n",
    "        plt.plot(y_pred_list)\n",
    "        plt.plot(y_validation)\n",
    "        plt.ylabel('GIC')\n",
    "        plt.show()\n",
    "        mse = mean_squared_error(self.y_validation, y_pred_list)\n",
    "        accuracy = rfr.score(self.x_validation,self.y_validation)\n",
    "        kfold = model_selection.KFold(n_splits=10, shuffle=True, random_state=seed)\n",
    "        cross_val_scores = cross_val_score(rfr, self.x_train, self.y_train, cv=kfold)\n",
    "        print(\"\\nRandom Forest Regressor\")\n",
    "        self.print_info(cross_val_scores, mse, accuracy)\n",
    "        return cross_val_scores, mse, accuracy\n",
    "            \n",
    "    # Lasso method \n",
    "    def lasso(self, x_train, x_validation,  y_train, y_validation):\n",
    "        reg = linear_model.Lasso(alpha = 0.1)\n",
    "        # X = np.array(X).reshape([-1, 1])\n",
    "        reg.fit(self.x_train, self.y_train)\n",
    "        y_pred_list = reg.predict(self.x_validation)\n",
    "        plt.plot(y_pred_list)\n",
    "        plt.plot(y_validation)\n",
    "        plt.ylabel('GIC')\n",
    "        plt.show()\n",
    "        mse = mean_squared_error(self.y_validation, y_pred_list)\n",
    "        accuracy = reg.score(self.x_validation,self.y_validation)\n",
    "        kfold = model_selection.KFold(n_splits=10, shuffle=True, random_state=seed)\n",
    "        cross_val_scores = cross_val_score(reg, self.x_train, self.y_train, cv=kfold)\n",
    "        print(\"\\nLasso Regression Model\")\n",
    "        self.print_info(cross_val_scores, mse, accuracy)\n",
    "        return cross_val_scores, mse, accuracy\n",
    "    \n",
    "    # Gradient Boosing Regressor\n",
    "    def GBR(self, x_train, x_validation,  y_train, y_validation):\n",
    "        gbr = GradientBoostingRegressor(n_estimators=175, learning_rate=0.08, max_depth=3, random_state=1232, loss='ls')\n",
    "        gbr.fit(self.x_train, self.y_train)\n",
    "        kfold = model_selection.KFold(n_splits=10, shuffle=True, random_state=seed)\n",
    "        cross_val_scores = cross_val_score(gbr, self.x_train, self.y_train, cv=kfold)\n",
    "        mse = mean_squared_error(self.y_validation, gbr.predict(self.x_validation))\n",
    "        accuracy = gbr.score(x_validation, y_validation)\n",
    "        print('\\nGradient Boosting Regressor')\n",
    "        self.print_info(cross_val_scores, mse, accuracy)\n",
    "        return cross_val_scores, mse, accuracy"
   ]
  },
  {
   "cell_type": "code",
   "execution_count": 141,
   "metadata": {},
   "outputs": [
    {
     "data": {
      "image/png": "[encoded data removed]",
      "text/plain": [
       "<Figure size 432x288 with 1 Axes>"
      ]
     },
     "metadata": {
      "needs_background": "light"
     },
     "output_type": "display_data"
    },
    {
     "name": "stdout",
     "output_type": "stream",
     "text": [
      "\n",
      "Linear Regression Model\n",
      "Cross Validation Scores:  [ 0.00299607  0.00108466  0.00565664  0.0014339  -0.0005125   0.00318766\n",
      " -0.00121552  0.00535292  0.00294822  0.00577929]\n",
      "Mean Squared Error:  0.0008163691073878881\n",
      "accuracy:  0.004030389118369171\n"
     ]
    },
    {
     "data": {
      "image/png": "[encoded data removed]",
      "text/plain": [
       "<Figure size 432x288 with 1 Axes>"
      ]
     },
     "metadata": {
      "needs_background": "light"
     },
     "output_type": "display_data"
    },
    {
     "name": "stdout",
     "output_type": "stream",
     "text": [
      "\n",
      "Random Forest Regressor\n",
      "Cross Validation Scores:  [0.05914178 0.02943277 0.02012938 0.06891526 0.00508662 0.00566414\n",
      " 0.01955871 0.04948399 0.07660081 0.04984292]\n",
      "Mean Squared Error:  0.0008436808806137218\n",
      "accuracy:  -0.029289950794121555\n"
     ]
    },
    {
     "data": {
      "image/png": "[encoded data removed]",
      "text/plain": [
       "<Figure size 432x288 with 1 Axes>"
      ]
     },
     "metadata": {
      "needs_background": "light"
     },
     "output_type": "display_data"
    },
    {
     "name": "stdout",
     "output_type": "stream",
     "text": [
      "\n",
      "Lasso Regression Model\n",
      "Cross Validation Scores:  [-2.83943928e-04 -7.32123617e-06 -3.58052245e-05 -2.65346290e-05\n",
      " -3.65552134e-06 -5.44674951e-04 -6.62081380e-05 -4.36770466e-04\n",
      " -3.97321847e-06 -1.10977010e-06]\n",
      "Mean Squared Error:  0.0008206940753946731\n",
      "accuracy:  -0.0012460681407446828\n",
      "\n",
      "Gradient Boosting Regressor\n",
      "Cross Validation Scores:  [0.05871107 0.03458995 0.01944939 0.06547041 0.00480476 0.02788982\n",
      " 0.01802351 0.04085026 0.07071296 0.03959308]\n",
      "Mean Squared Error:  0.0008540812095325944\n",
      "accuracy:  -0.04197834315565263\n"
     ]
    }
   ],
   "source": [
    "from types import FunctionType\n",
    "\n",
    "methods = [x for x, y in Models.__dict__.items() if type(y) == FunctionType]\n",
    "methods.remove('__init__')\n",
    "# Now calling the all regression methods\n",
    "cross_scores_list, mse_list, accuracy_list = [], [], []\n",
    "for model in methods:\n",
    "    reg = Models(x_train, x_validation, y_train, y_validation)\n",
    "    cross_val_scores, mse, accuracy= getattr(reg, model)(x_train, x_validation, y_train, y_validation)\n",
    "    cross_scores_list.append(cross_val_scores)\n",
    "    mse_list.append(mse)\n",
    "    accuracy_list\n",
    "    accuracy_list.append(accuracy)"
   ]
  },
  {
   "cell_type": "code",
   "execution_count": 142,
   "metadata": {},
   "outputs": [],
   "source": [
    "plot_df = pd.DataFrame()\n",
    "for i in range(len(methods)):\n",
    "    plot_df[methods[i]] = cross_scores_list[i]"
   ]
  },
  {
   "cell_type": "code",
   "execution_count": 143,
   "metadata": {},
   "outputs": [
    {
     "data": {
      "image/png": "[encoded data removed]",
      "text/plain": [
       "<Figure size 432x288 with 1 Axes>"
      ]
     },
     "metadata": {
      "needs_background": "light"
     },
     "output_type": "display_data"
    }
   ],
   "source": [
    "boxplot = plot_df.boxplot(column=['linear_regression','random_forest','lasso','GBR'])"
   ]
  },
  {
   "cell_type": "code",
   "execution_count": 144,
   "metadata": {},
   "outputs": [
    {
     "data": {
      "image/png": "[encoded data removed]",
      "text/plain": [
       "<Figure size 432x288 with 1 Axes>"
      ]
     },
     "metadata": {
      "needs_background": "light"
     },
     "output_type": "display_data"
    }
   ],
   "source": [
    "# Plot Mean Squared Error\n",
    "\n",
    "plt.plot(accuracy_list, c='b')\n",
    "plt.title('Comparision of Algorithms')\n",
    "plt.ylabel('Accuracy')\n",
    "#plt.ylim(0.0008, 0.015)\n",
    "x = np.array([0,1,2,3])\n",
    "plt.scatter(x, accuracy_list, c='r', marker=\"s\")\n",
    "plt.xticks(x, methods)\n",
    "plt.show()"
   ]
  },
  {
   "cell_type": "code",
   "execution_count": null,
   "metadata": {},
   "outputs": [],
   "source": []
  },
  {
   "cell_type": "code",
   "execution_count": 139,
   "metadata": {},
   "outputs": [],
   "source": [
    "# Importing sklearn methods\n",
    "from sklearn import linear_model\n",
    "from sklearn.ensemble import RandomForestRegressor\n",
    "from sklearn.metrics import mean_squared_error\n",
    "from sklearn import svm\n",
    "from sklearn.ensemble import GradientBoostingRegressor\n",
    "from sklearn.model_selection import cross_val_score\n",
    "from sklearn import model_selection\n",
    "from sklearn.model_selection import GridSearchCV\n",
    "from sklearn.metrics import accuracy_score"
   ]
  },
  {
   "cell_type": "markdown",
   "metadata": {},
   "source": [
    "## --------------- Scaled"
   ]
  },
  {
   "cell_type": "code",
   "execution_count": null,
   "metadata": {},
   "outputs": [],
   "source": []
  },
  {
   "cell_type": "code",
   "execution_count": 181,
   "metadata": {},
   "outputs": [
    {
     "data": {
      "image/png": "[encoded data removed]",
      "text/plain": [
       "<Figure size 432x288 with 1 Axes>"
      ]
     },
     "metadata": {
      "needs_background": "light"
     },
     "output_type": "display_data"
    },
    {
     "name": "stdout",
     "output_type": "stream",
     "text": [
      "\n",
      "Linear Regression Model\n",
      "Cross Validation Scores:  [ 0.00299607  0.00108466  0.00565664  0.0014339  -0.0005125   0.00318766\n",
      " -0.00121552  0.00535292  0.00294822  0.00577929]\n",
      "Mean Squared Error:  0.0008163691073878881\n",
      "accuracy:  0.004030389118369171\n"
     ]
    },
    {
     "data": {
      "image/png": "[encoded data removed]",
      "text/plain": [
       "<Figure size 432x288 with 1 Axes>"
      ]
     },
     "metadata": {
      "needs_background": "light"
     },
     "output_type": "display_data"
    },
    {
     "name": "stdout",
     "output_type": "stream",
     "text": [
      "\n",
      "Random Forest Regressor\n",
      "Cross Validation Scores:  [0.05914178 0.02943277 0.02012938 0.06891526 0.00508662 0.00566414\n",
      " 0.01955871 0.04948399 0.07660081 0.04984292]\n",
      "Mean Squared Error:  0.0008436808806137218\n",
      "accuracy:  -0.029289950794121555\n"
     ]
    },
    {
     "data": {
      "image/png": "[encoded data removed]",
      "text/plain": [
       "<Figure size 432x288 with 1 Axes>"
      ]
     },
     "metadata": {
      "needs_background": "light"
     },
     "output_type": "display_data"
    },
    {
     "name": "stdout",
     "output_type": "stream",
     "text": [
      "\n",
      "Lasso Regression Model\n",
      "Cross Validation Scores:  [-2.83943928e-04 -7.32123617e-06 -3.58052245e-05 -2.65346290e-05\n",
      " -3.65552134e-06 -5.44674951e-04 -6.62081380e-05 -4.36770466e-04\n",
      " -3.97321847e-06 -1.10977010e-06]\n",
      "Mean Squared Error:  0.0008206940753946731\n",
      "accuracy:  -0.0012460681407446828\n",
      "\n",
      "Gradient Boosting Regressor\n",
      "Cross Validation Scores:  [0.05871107 0.03458995 0.01944939 0.06547041 0.00480476 0.02788982\n",
      " 0.01802351 0.04085026 0.07071296 0.03959308]\n",
      "Mean Squared Error:  0.0008540812095325944\n",
      "accuracy:  -0.04197834315565263\n"
     ]
    }
   ],
   "source": [
    "from types import FunctionType\n",
    "\n",
    "methods = [x for x, y in Models.__dict__.items() if type(y) == FunctionType]\n",
    "methods.remove('__init__')\n",
    "# Now calling the all regression methods\n",
    "cross_scores_list, mse_list, accuracy_list = [], [], []\n",
    "for model in methods:\n",
    "    reg = Models(x_train, x_validation, y_train, y_validation)\n",
    "    cross_val_scores, mse, accuracy= getattr(reg, model)(x_train, x_validation, y_train, y_validation)\n",
    "    cross_scores_list.append(cross_val_scores)\n",
    "    mse_list.append(mse)\n",
    "    accuracy_list\n",
    "    accuracy_list.append(accuracy)"
   ]
  },
  {
   "cell_type": "code",
   "execution_count": null,
   "metadata": {},
   "outputs": [],
   "source": []
  },
  {
   "cell_type": "code",
   "execution_count": null,
   "metadata": {},
   "outputs": [],
   "source": []
  },
  {
   "cell_type": "code",
   "execution_count": null,
   "metadata": {},
   "outputs": [],
   "source": []
  },
  {
   "cell_type": "code",
   "execution_count": 70,
   "metadata": {},
   "outputs": [
    {
     "data": {
      "text/plain": [
       "{'learning_rate': 0.075, 'max_depth': 2, 'n_estimators': 170}"
      ]
     },
     "execution_count": 70,
     "metadata": {},
     "output_type": "execute_result"
    }
   ],
   "source": [
    "# We use GridSearchCV to find out the best set of parameters for GBR and use it for the \n",
    "# regression model analysis and prediction\n",
    "parameters = {\n",
    "    'n_estimators' : [170, 175, 180],\n",
    "    'learning_rate' : [0.075, 0.08, 0.1],\n",
    "    'max_depth' : [2, 3, 4]\n",
    "}\n",
    "\n",
    "gbr = GradientBoostingRegressor(n_estimators=250, learning_rate=0.1, max_depth=5, random_state=232, loss='ls')\n",
    "gs_cv = GridSearchCV(gbr, parameters).fit(x_train, y_train)\n",
    "gs_cv.best_params_"
   ]
  },
  {
   "cell_type": "markdown",
   "metadata": {},
   "source": [
    "# ------ With -99999.990000"
   ]
  },
  {
   "cell_type": "code",
   "execution_count": 71,
   "metadata": {},
   "outputs": [
    {
     "data": {
      "image/png": "[encoded data removed]",
      "text/plain": [
       "<Figure size 432x288 with 1 Axes>"
      ]
     },
     "metadata": {
      "needs_background": "light"
     },
     "output_type": "display_data"
    },
    {
     "name": "stdout",
     "output_type": "stream",
     "text": [
      "\n",
      "Linear Regression Model\n",
      "Cross Validation Scores:  [0.0995631  0.10406999 0.10143329 0.09775554 0.10477924 0.10958142\n",
      " 0.10507188 0.10154454 0.10412934 0.09822321]\n",
      "Mean Squared Error:  485057273.5422226\n",
      "accuracy:  0.12448416079895153\n"
     ]
    },
    {
     "data": {
      "image/png": "[encoded data removed]",
      "text/plain": [
       "<Figure size 432x288 with 1 Axes>"
      ]
     },
     "metadata": {
      "needs_background": "light"
     },
     "output_type": "display_data"
    },
    {
     "name": "stdout",
     "output_type": "stream",
     "text": [
      "\n",
      "Random Forest Regressor\n",
      "Cross Validation Scores:  [0.58967976 0.63298466 0.60166323 0.56061098 0.58932491 0.59640633\n",
      " 0.59804409 0.5950115  0.61079019 0.58548938]\n",
      "Mean Squared Error:  393513780.44311607\n",
      "accuracy:  0.28971779929026875\n"
     ]
    },
    {
     "data": {
      "image/png": "[encoded data removed]",
      "text/plain": [
       "<Figure size 432x288 with 1 Axes>"
      ]
     },
     "metadata": {
      "needs_background": "light"
     },
     "output_type": "display_data"
    },
    {
     "name": "stdout",
     "output_type": "stream",
     "text": [
      "\n",
      "Lasso Regression Model\n",
      "Cross Validation Scores:  [0.0995631  0.10406999 0.10143329 0.09775554 0.10477924 0.10958142\n",
      " 0.10507188 0.10154454 0.10412934 0.09822321]\n",
      "Mean Squared Error:  485057280.0856541\n",
      "accuracy:  0.1244841489882269\n",
      "\n",
      "Gradient Boosting Regressor\n",
      "Cross Validation Scores:  [0.55361669 0.60105297 0.57757003 0.5328688  0.55957665 0.56242967\n",
      " 0.56109451 0.55871382 0.57413044 0.54817715]\n",
      "Mean Squared Error:  321216483.5948772\n",
      "accuracy:  0.42021255109516753\n"
     ]
    }
   ],
   "source": [
    "from types import FunctionType\n",
    "\n",
    "methods = [x for x, y in Models.__dict__.items() if type(y) == FunctionType]\n",
    "methods.remove('__init__')\n",
    "# Now calling the all regression methods\n",
    "cross_scores_list, mse_list, accuracy_list = [], [], []\n",
    "for model in methods:\n",
    "    reg = Models(x_train, x_validation, y_train, y_validation)\n",
    "    cross_val_scores, mse, accuracy= getattr(reg, model)(x_train, x_validation, y_train, y_validation)\n",
    "    cross_scores_list.append(cross_val_scores)\n",
    "    mse_list.append(mse)\n",
    "    accuracy_list\n",
    "    accuracy_list.append(accuracy)"
   ]
  },
  {
   "cell_type": "code",
   "execution_count": null,
   "metadata": {},
   "outputs": [],
   "source": []
  },
  {
   "cell_type": "code",
   "execution_count": null,
   "metadata": {},
   "outputs": [],
   "source": []
  },
  {
   "cell_type": "code",
   "execution_count": null,
   "metadata": {},
   "outputs": [],
   "source": []
  },
  {
   "cell_type": "code",
   "execution_count": null,
   "metadata": {},
   "outputs": [],
   "source": []
  },
  {
   "cell_type": "code",
   "execution_count": null,
   "metadata": {},
   "outputs": [],
   "source": []
  },
  {
   "cell_type": "code",
   "execution_count": null,
   "metadata": {},
   "outputs": [],
   "source": []
  },
  {
   "cell_type": "code",
   "execution_count": null,
   "metadata": {},
   "outputs": [],
   "source": []
  },
  {
   "cell_type": "code",
   "execution_count": null,
   "metadata": {},
   "outputs": [],
   "source": []
  },
  {
   "cell_type": "code",
   "execution_count": 72,
   "metadata": {},
   "outputs": [],
   "source": [
    "plot_df = pd.DataFrame()\n",
    "for i in range(len(methods)):\n",
    "    plot_df[methods[i]] = cross_scores_list[i]"
   ]
  },
  {
   "cell_type": "code",
   "execution_count": 73,
   "metadata": {},
   "outputs": [
    {
     "data": {
      "text/html": [
       "<div>\n",
       "<style scoped>\n",
       "    .dataframe tbody tr th:only-of-type {\n",
       "        vertical-align: middle;\n",
       "    }\n",
       "\n",
       "    .dataframe tbody tr th {\n",
       "        vertical-align: top;\n",
       "    }\n",
       "\n",
       "    .dataframe thead th {\n",
       "        text-align: right;\n",
       "    }\n",
       "</style>\n",
       "<table border=\"1\" class=\"dataframe\">\n",
       "  <thead>\n",
       "    <tr style=\"text-align: right;\">\n",
       "      <th></th>\n",
       "      <th>linear_regression</th>\n",
       "      <th>random_forest</th>\n",
       "      <th>lasso</th>\n",
       "      <th>GBR</th>\n",
       "    </tr>\n",
       "  </thead>\n",
       "  <tbody>\n",
       "    <tr>\n",
       "      <th>0</th>\n",
       "      <td>0.099563</td>\n",
       "      <td>0.589680</td>\n",
       "      <td>0.099563</td>\n",
       "      <td>0.553617</td>\n",
       "    </tr>\n",
       "    <tr>\n",
       "      <th>1</th>\n",
       "      <td>0.104070</td>\n",
       "      <td>0.632985</td>\n",
       "      <td>0.104070</td>\n",
       "      <td>0.601053</td>\n",
       "    </tr>\n",
       "    <tr>\n",
       "      <th>2</th>\n",
       "      <td>0.101433</td>\n",
       "      <td>0.601663</td>\n",
       "      <td>0.101433</td>\n",
       "      <td>0.577570</td>\n",
       "    </tr>\n",
       "    <tr>\n",
       "      <th>3</th>\n",
       "      <td>0.097756</td>\n",
       "      <td>0.560611</td>\n",
       "      <td>0.097756</td>\n",
       "      <td>0.532869</td>\n",
       "    </tr>\n",
       "    <tr>\n",
       "      <th>4</th>\n",
       "      <td>0.104779</td>\n",
       "      <td>0.589325</td>\n",
       "      <td>0.104779</td>\n",
       "      <td>0.559577</td>\n",
       "    </tr>\n",
       "    <tr>\n",
       "      <th>5</th>\n",
       "      <td>0.109581</td>\n",
       "      <td>0.596406</td>\n",
       "      <td>0.109581</td>\n",
       "      <td>0.562430</td>\n",
       "    </tr>\n",
       "    <tr>\n",
       "      <th>6</th>\n",
       "      <td>0.105072</td>\n",
       "      <td>0.598044</td>\n",
       "      <td>0.105072</td>\n",
       "      <td>0.561095</td>\n",
       "    </tr>\n",
       "    <tr>\n",
       "      <th>7</th>\n",
       "      <td>0.101545</td>\n",
       "      <td>0.595011</td>\n",
       "      <td>0.101545</td>\n",
       "      <td>0.558714</td>\n",
       "    </tr>\n",
       "    <tr>\n",
       "      <th>8</th>\n",
       "      <td>0.104129</td>\n",
       "      <td>0.610790</td>\n",
       "      <td>0.104129</td>\n",
       "      <td>0.574130</td>\n",
       "    </tr>\n",
       "    <tr>\n",
       "      <th>9</th>\n",
       "      <td>0.098223</td>\n",
       "      <td>0.585489</td>\n",
       "      <td>0.098223</td>\n",
       "      <td>0.548177</td>\n",
       "    </tr>\n",
       "  </tbody>\n",
       "</table>\n",
       "</div>"
      ],
      "text/plain": [
       "   linear_regression  random_forest     lasso       GBR\n",
       "0           0.099563       0.589680  0.099563  0.553617\n",
       "1           0.104070       0.632985  0.104070  0.601053\n",
       "2           0.101433       0.601663  0.101433  0.577570\n",
       "3           0.097756       0.560611  0.097756  0.532869\n",
       "4           0.104779       0.589325  0.104779  0.559577\n",
       "5           0.109581       0.596406  0.109581  0.562430\n",
       "6           0.105072       0.598044  0.105072  0.561095\n",
       "7           0.101545       0.595011  0.101545  0.558714\n",
       "8           0.104129       0.610790  0.104129  0.574130\n",
       "9           0.098223       0.585489  0.098223  0.548177"
      ]
     },
     "execution_count": 73,
     "metadata": {},
     "output_type": "execute_result"
    }
   ],
   "source": [
    "plot_df"
   ]
  },
  {
   "cell_type": "code",
   "execution_count": 74,
   "metadata": {},
   "outputs": [
    {
     "data": {
      "image/png": "[encoded data removed]",
      "text/plain": [
       "<Figure size 432x288 with 1 Axes>"
      ]
     },
     "metadata": {
      "needs_background": "light"
     },
     "output_type": "display_data"
    }
   ],
   "source": [
    "boxplot = plot_df.boxplot(column=['linear_regression','random_forest','lasso','GBR'])"
   ]
  },
  {
   "cell_type": "code",
   "execution_count": 61,
   "metadata": {},
   "outputs": [],
   "source": [
    "import seaborn as sns"
   ]
  },
  {
   "cell_type": "code",
   "execution_count": 1,
   "metadata": {},
   "outputs": [
    {
     "ename": "NameError",
     "evalue": "name 'plt' is not defined",
     "output_type": "error",
     "traceback": [
      "\u001b[1;31m---------------------------------------------------------------------------\u001b[0m",
      "\u001b[1;31mNameError\u001b[0m                                 Traceback (most recent call last)",
      "\u001b[1;32m<ipython-input-1-ced42c5996fa>\u001b[0m in \u001b[0;36m<module>\u001b[1;34m\u001b[0m\n\u001b[0;32m      1\u001b[0m \u001b[1;31m#plt.figure(figsize=(10,6))\u001b[0m\u001b[1;33m\u001b[0m\u001b[1;33m\u001b[0m\u001b[1;33m\u001b[0m\u001b[0m\n\u001b[1;32m----> 2\u001b[1;33m \u001b[0mplt\u001b[0m\u001b[1;33m.\u001b[0m\u001b[0mtitle\u001b[0m\u001b[1;33m(\u001b[0m\u001b[1;34m'Comparison of Algorithms'\u001b[0m\u001b[1;33m)\u001b[0m\u001b[1;33m\u001b[0m\u001b[1;33m\u001b[0m\u001b[0m\n\u001b[0m\u001b[0;32m      3\u001b[0m \u001b[0msns\u001b[0m\u001b[1;33m.\u001b[0m\u001b[0mboxplot\u001b[0m\u001b[1;33m(\u001b[0m\u001b[0mplot_df\u001b[0m\u001b[1;33m)\u001b[0m\u001b[1;33m\u001b[0m\u001b[1;33m\u001b[0m\u001b[0m\n\u001b[0;32m      4\u001b[0m \u001b[1;31m#plt.ylim(0.7, 1.0)\u001b[0m\u001b[1;33m\u001b[0m\u001b[1;33m\u001b[0m\u001b[1;33m\u001b[0m\u001b[0m\n\u001b[0;32m      5\u001b[0m \u001b[0mplt\u001b[0m\u001b[1;33m.\u001b[0m\u001b[0mylabel\u001b[0m\u001b[1;33m(\u001b[0m\u001b[1;34m'Cross Val Score'\u001b[0m\u001b[1;33m)\u001b[0m\u001b[1;33m\u001b[0m\u001b[1;33m\u001b[0m\u001b[0m\n",
      "\u001b[1;31mNameError\u001b[0m: name 'plt' is not defined"
     ]
    }
   ],
   "source": [
    "#plt.figure(figsize=(10,6))\n",
    "plt.title('Comparison of Algorithms')\n",
    "sns.boxplot(plot_df)\n",
    "#plt.ylim(0.7, 1.0)\n",
    "plt.ylabel('Cross Val Score')\n",
    "plt.show()"
   ]
  },
  {
   "cell_type": "code",
   "execution_count": 63,
   "metadata": {},
   "outputs": [
    {
     "data": {
      "image/png": "[encoded data removed]",
      "text/plain": [
       "<Figure size 432x288 with 1 Axes>"
      ]
     },
     "metadata": {
      "needs_background": "light"
     },
     "output_type": "display_data"
    }
   ],
   "source": [
    "# Plot Mean Squared Error\n",
    "\n",
    "plt.plot(accuracy_list, c='b')\n",
    "plt.title('Comparision of Algorithms')\n",
    "plt.ylabel('Accuracy')\n",
    "#plt.ylim(0.0008, 0.015)\n",
    "x = np.array([0,1,2,3])\n",
    "plt.scatter(x, accuracy_list, c='r', marker=\"s\")\n",
    "plt.xticks(x, methods)\n",
    "plt.show()"
   ]
  },
  {
   "cell_type": "code",
   "execution_count": 67,
   "metadata": {},
   "outputs": [
    {
     "data": {
      "image/png": "[encoded data removed]",
      "text/plain": [
       "<Figure size 432x288 with 1 Axes>"
      ]
     },
     "metadata": {
      "needs_background": "light"
     },
     "output_type": "display_data"
    }
   ],
   "source": [
    "import matplotlib.pyplot as plt\n",
    "plt.plot(y)\n",
    "plt.ylabel('GIC')\n",
    "plt.show()"
   ]
  },
  {
   "cell_type": "code",
   "execution_count": 74,
   "metadata": {},
   "outputs": [
    {
     "data": {
      "text/plain": [
       "'random_forest'"
      ]
     },
     "execution_count": 74,
     "metadata": {},
     "output_type": "execute_result"
    }
   ],
   "source": [
    "methods[1]"
   ]
  },
  {
   "cell_type": "code",
   "execution_count": null,
   "metadata": {},
   "outputs": [],
   "source": [
    ".predict(diabetes_X_test)"
   ]
  },
  {
   "cell_type": "code",
   "execution_count": 69,
   "metadata": {},
   "outputs": [
    {
     "data": {
      "text/plain": [
       "<matplotlib.axes._subplots.AxesSubplot at 0x24566afdcc0>"
      ]
     },
     "execution_count": 69,
     "metadata": {},
     "output_type": "execute_result"
    },
    {
     "data": {
      "image/png": "[encoded data removed]",
      "text/plain": [
       "<Figure size 432x288 with 1 Axes>"
      ]
     },
     "metadata": {
      "needs_background": "light"
     },
     "output_type": "display_data"
    }
   ],
   "source": [
    "import matplotlib.pyplot as plt\n",
    "import pandas as pd\n",
    "\n",
    "# a simple line plot\n",
    "plot_df.plot(kind='line',y='linear_regression')"
   ]
  },
  {
   "cell_type": "code",
   "execution_count": 64,
   "metadata": {},
   "outputs": [
    {
     "data": {
      "text/plain": [
       "159       0.012438\n",
       "160       0.013000\n",
       "161       0.013625\n",
       "162       0.014125\n",
       "163       0.014813\n",
       "            ...   \n",
       "534952    0.079312\n",
       "534953    0.079250\n",
       "534954    0.079312\n",
       "534955    0.079250\n",
       "534956    0.079125\n",
       "Name: gic, Length: 534798, dtype: float64"
      ]
     },
     "execution_count": 64,
     "metadata": {},
     "output_type": "execute_result"
    }
   ],
   "source": [
    "y"
   ]
  },
  {
   "cell_type": "code",
   "execution_count": null,
   "metadata": {},
   "outputs": [],
   "source": [
    "# Plot Mean Squared Error\n",
    "\n",
    "plt.plot(accuracy_list, c='b')\n",
    "plt.title('Comparision of Algorithms')\n",
    "plt.ylabel('Accuracy')\n",
    "#plt.ylim(0.0008, 0.015)\n",
    "x = np.array([0,1,2,3])\n",
    "plt.scatter(x, accuracy_list, c='r', marker=\"s\")\n",
    "plt.xticks(x, methods)\n",
    "plt.show()"
   ]
  },
  {
   "cell_type": "code",
   "execution_count": 100,
   "metadata": {},
   "outputs": [
    {
     "ename": "AttributeError",
     "evalue": "'Models' object has no attribute 'score'",
     "output_type": "error",
     "traceback": [
      "\u001b[1;31m---------------------------------------------------------------------------\u001b[0m",
      "\u001b[1;31mAttributeError\u001b[0m                            Traceback (most recent call last)",
      "\u001b[1;32m<ipython-input-100-810eb32a861c>\u001b[0m in \u001b[0;36m<module>\u001b[1;34m\u001b[0m\n\u001b[1;32m----> 1\u001b[1;33m \u001b[0mreg\u001b[0m\u001b[1;33m.\u001b[0m\u001b[0mscore\u001b[0m\u001b[1;33m(\u001b[0m\u001b[0mx_validation\u001b[0m\u001b[1;33m,\u001b[0m \u001b[0my_validation\u001b[0m\u001b[1;33m)\u001b[0m\u001b[1;33m\u001b[0m\u001b[1;33m\u001b[0m\u001b[0m\n\u001b[0m\u001b[0;32m      2\u001b[0m \u001b[1;33m\u001b[0m\u001b[0m\n\u001b[0;32m      3\u001b[0m \u001b[0mreg\u001b[0m\u001b[1;33m.\u001b[0m\u001b[0mcoef_\u001b[0m\u001b[1;33m\u001b[0m\u001b[1;33m\u001b[0m\u001b[0m\n\u001b[0;32m      4\u001b[0m \u001b[1;33m\u001b[0m\u001b[0m\n\u001b[0;32m      5\u001b[0m \u001b[0mreg\u001b[0m\u001b[1;33m.\u001b[0m\u001b[0mintercept_\u001b[0m\u001b[1;33m\u001b[0m\u001b[1;33m\u001b[0m\u001b[0m\n",
      "\u001b[1;31mAttributeError\u001b[0m: 'Models' object has no attribute 'score'"
     ]
    }
   ],
   "source": [
    "reg.score(x_validation, y_validation)\n",
    "\n",
    "reg.coef_\n",
    "\n",
    "reg.intercept_\n",
    "\n",
    "reg.predict(np.array([[3, 5, 3]]))\n"
   ]
  },
  {
   "cell_type": "code",
   "execution_count": 87,
   "metadata": {},
   "outputs": [
    {
     "data": {
      "text/plain": [
       "<matplotlib.axes._subplots.AxesSubplot at 0x204f7703ac8>"
      ]
     },
     "execution_count": 87,
     "metadata": {},
     "output_type": "execute_result"
    },
    {
     "data": {
      "image/png": "[encoded data removed]",
      "text/plain": [
       "<Figure size 432x288 with 1 Axes>"
      ]
     },
     "metadata": {
      "needs_background": "light"
     },
     "output_type": "display_data"
    }
   ],
   "source": [
    "#dfxx = pred_test_y\n",
    "dataset.plot()"
   ]
  },
  {
   "cell_type": "code",
   "execution_count": 79,
   "metadata": {},
   "outputs": [
    {
     "ename": "ValueError",
     "evalue": "Classification metrics can't handle a mix of continuous and binary targets",
     "output_type": "error",
     "traceback": [
      "\u001b[1;31m---------------------------------------------------------------------------\u001b[0m",
      "\u001b[1;31mValueError\u001b[0m                                Traceback (most recent call last)",
      "\u001b[1;32m<ipython-input-79-c6cbc60a5e1e>\u001b[0m in \u001b[0;36m<module>\u001b[1;34m\u001b[0m\n\u001b[0;32m      4\u001b[0m \u001b[1;32mfor\u001b[0m \u001b[0mthresh\u001b[0m \u001b[1;32min\u001b[0m \u001b[0mnp\u001b[0m\u001b[1;33m.\u001b[0m\u001b[0marange\u001b[0m\u001b[1;33m(\u001b[0m\u001b[1;36m0.1\u001b[0m\u001b[1;33m,\u001b[0m \u001b[1;36m0.501\u001b[0m\u001b[1;33m,\u001b[0m \u001b[1;36m0.01\u001b[0m\u001b[1;33m)\u001b[0m\u001b[1;33m:\u001b[0m\u001b[1;33m\u001b[0m\u001b[1;33m\u001b[0m\u001b[0m\n\u001b[0;32m      5\u001b[0m     \u001b[0mthresh\u001b[0m \u001b[1;33m=\u001b[0m \u001b[0mnp\u001b[0m\u001b[1;33m.\u001b[0m\u001b[0mround\u001b[0m\u001b[1;33m(\u001b[0m\u001b[0mthresh\u001b[0m\u001b[1;33m,\u001b[0m \u001b[1;36m2\u001b[0m\u001b[1;33m)\u001b[0m\u001b[1;33m\u001b[0m\u001b[1;33m\u001b[0m\u001b[0m\n\u001b[1;32m----> 6\u001b[1;33m     \u001b[0mf1\u001b[0m \u001b[1;33m=\u001b[0m \u001b[0mmetrics\u001b[0m\u001b[1;33m.\u001b[0m\u001b[0mf1_score\u001b[0m\u001b[1;33m(\u001b[0m\u001b[0my_test\u001b[0m\u001b[1;33m,\u001b[0m \u001b[1;33m(\u001b[0m\u001b[0mpred_test_y\u001b[0m \u001b[1;33m>\u001b[0m \u001b[0mthresh\u001b[0m\u001b[1;33m)\u001b[0m\u001b[1;33m.\u001b[0m\u001b[0mastype\u001b[0m\u001b[1;33m(\u001b[0m\u001b[0mint\u001b[0m\u001b[1;33m)\u001b[0m\u001b[1;33m)\u001b[0m\u001b[1;33m\u001b[0m\u001b[1;33m\u001b[0m\u001b[0m\n\u001b[0m\u001b[0;32m      7\u001b[0m     \u001b[0mprint\u001b[0m\u001b[1;33m(\u001b[0m\u001b[1;34m'F1 score at threshold {} is {}'\u001b[0m\u001b[1;33m.\u001b[0m\u001b[0mformat\u001b[0m\u001b[1;33m(\u001b[0m\u001b[0mthresh\u001b[0m\u001b[1;33m,\u001b[0m \u001b[0mf1\u001b[0m\u001b[1;33m)\u001b[0m\u001b[1;33m)\u001b[0m\u001b[1;33m\u001b[0m\u001b[1;33m\u001b[0m\u001b[0m\n\u001b[0;32m      8\u001b[0m \u001b[1;33m\u001b[0m\u001b[0m\n",
      "\u001b[1;32m~\\.conda\\envs\\keras-gpu\\lib\\site-packages\\sklearn\\metrics\\_classification.py\u001b[0m in \u001b[0;36mf1_score\u001b[1;34m(y_true, y_pred, labels, pos_label, average, sample_weight, zero_division)\u001b[0m\n\u001b[0;32m   1093\u001b[0m                        \u001b[0mpos_label\u001b[0m\u001b[1;33m=\u001b[0m\u001b[0mpos_label\u001b[0m\u001b[1;33m,\u001b[0m \u001b[0maverage\u001b[0m\u001b[1;33m=\u001b[0m\u001b[0maverage\u001b[0m\u001b[1;33m,\u001b[0m\u001b[1;33m\u001b[0m\u001b[1;33m\u001b[0m\u001b[0m\n\u001b[0;32m   1094\u001b[0m                        \u001b[0msample_weight\u001b[0m\u001b[1;33m=\u001b[0m\u001b[0msample_weight\u001b[0m\u001b[1;33m,\u001b[0m\u001b[1;33m\u001b[0m\u001b[1;33m\u001b[0m\u001b[0m\n\u001b[1;32m-> 1095\u001b[1;33m                        zero_division=zero_division)\n\u001b[0m\u001b[0;32m   1096\u001b[0m \u001b[1;33m\u001b[0m\u001b[0m\n\u001b[0;32m   1097\u001b[0m \u001b[1;33m\u001b[0m\u001b[0m\n",
      "\u001b[1;32m~\\.conda\\envs\\keras-gpu\\lib\\site-packages\\sklearn\\metrics\\_classification.py\u001b[0m in \u001b[0;36mfbeta_score\u001b[1;34m(y_true, y_pred, beta, labels, pos_label, average, sample_weight, zero_division)\u001b[0m\n\u001b[0;32m   1220\u001b[0m                                                  \u001b[0mwarn_for\u001b[0m\u001b[1;33m=\u001b[0m\u001b[1;33m(\u001b[0m\u001b[1;34m'f-score'\u001b[0m\u001b[1;33m,\u001b[0m\u001b[1;33m)\u001b[0m\u001b[1;33m,\u001b[0m\u001b[1;33m\u001b[0m\u001b[1;33m\u001b[0m\u001b[0m\n\u001b[0;32m   1221\u001b[0m                                                  \u001b[0msample_weight\u001b[0m\u001b[1;33m=\u001b[0m\u001b[0msample_weight\u001b[0m\u001b[1;33m,\u001b[0m\u001b[1;33m\u001b[0m\u001b[1;33m\u001b[0m\u001b[0m\n\u001b[1;32m-> 1222\u001b[1;33m                                                  zero_division=zero_division)\n\u001b[0m\u001b[0;32m   1223\u001b[0m     \u001b[1;32mreturn\u001b[0m \u001b[0mf\u001b[0m\u001b[1;33m\u001b[0m\u001b[1;33m\u001b[0m\u001b[0m\n\u001b[0;32m   1224\u001b[0m \u001b[1;33m\u001b[0m\u001b[0m\n",
      "\u001b[1;32m~\\.conda\\envs\\keras-gpu\\lib\\site-packages\\sklearn\\metrics\\_classification.py\u001b[0m in \u001b[0;36mprecision_recall_fscore_support\u001b[1;34m(y_true, y_pred, beta, labels, pos_label, average, warn_for, sample_weight, zero_division)\u001b[0m\n\u001b[0;32m   1478\u001b[0m         \u001b[1;32mraise\u001b[0m \u001b[0mValueError\u001b[0m\u001b[1;33m(\u001b[0m\u001b[1;34m\"beta should be >=0 in the F-beta score\"\u001b[0m\u001b[1;33m)\u001b[0m\u001b[1;33m\u001b[0m\u001b[1;33m\u001b[0m\u001b[0m\n\u001b[0;32m   1479\u001b[0m     labels = _check_set_wise_labels(y_true, y_pred, average, labels,\n\u001b[1;32m-> 1480\u001b[1;33m                                     pos_label)\n\u001b[0m\u001b[0;32m   1481\u001b[0m \u001b[1;33m\u001b[0m\u001b[0m\n\u001b[0;32m   1482\u001b[0m     \u001b[1;31m# Calculate tp_sum, pred_sum, true_sum ###\u001b[0m\u001b[1;33m\u001b[0m\u001b[1;33m\u001b[0m\u001b[1;33m\u001b[0m\u001b[0m\n",
      "\u001b[1;32m~\\.conda\\envs\\keras-gpu\\lib\\site-packages\\sklearn\\metrics\\_classification.py\u001b[0m in \u001b[0;36m_check_set_wise_labels\u001b[1;34m(y_true, y_pred, average, labels, pos_label)\u001b[0m\n\u001b[0;32m   1295\u001b[0m                          str(average_options))\n\u001b[0;32m   1296\u001b[0m \u001b[1;33m\u001b[0m\u001b[0m\n\u001b[1;32m-> 1297\u001b[1;33m     \u001b[0my_type\u001b[0m\u001b[1;33m,\u001b[0m \u001b[0my_true\u001b[0m\u001b[1;33m,\u001b[0m \u001b[0my_pred\u001b[0m \u001b[1;33m=\u001b[0m \u001b[0m_check_targets\u001b[0m\u001b[1;33m(\u001b[0m\u001b[0my_true\u001b[0m\u001b[1;33m,\u001b[0m \u001b[0my_pred\u001b[0m\u001b[1;33m)\u001b[0m\u001b[1;33m\u001b[0m\u001b[1;33m\u001b[0m\u001b[0m\n\u001b[0m\u001b[0;32m   1298\u001b[0m     \u001b[0mpresent_labels\u001b[0m \u001b[1;33m=\u001b[0m \u001b[0munique_labels\u001b[0m\u001b[1;33m(\u001b[0m\u001b[0my_true\u001b[0m\u001b[1;33m,\u001b[0m \u001b[0my_pred\u001b[0m\u001b[1;33m)\u001b[0m\u001b[1;33m\u001b[0m\u001b[1;33m\u001b[0m\u001b[0m\n\u001b[0;32m   1299\u001b[0m     \u001b[1;32mif\u001b[0m \u001b[0maverage\u001b[0m \u001b[1;33m==\u001b[0m \u001b[1;34m'binary'\u001b[0m\u001b[1;33m:\u001b[0m\u001b[1;33m\u001b[0m\u001b[1;33m\u001b[0m\u001b[0m\n",
      "\u001b[1;32m~\\.conda\\envs\\keras-gpu\\lib\\site-packages\\sklearn\\metrics\\_classification.py\u001b[0m in \u001b[0;36m_check_targets\u001b[1;34m(y_true, y_pred)\u001b[0m\n\u001b[0;32m     88\u001b[0m     \u001b[1;32mif\u001b[0m \u001b[0mlen\u001b[0m\u001b[1;33m(\u001b[0m\u001b[0my_type\u001b[0m\u001b[1;33m)\u001b[0m \u001b[1;33m>\u001b[0m \u001b[1;36m1\u001b[0m\u001b[1;33m:\u001b[0m\u001b[1;33m\u001b[0m\u001b[1;33m\u001b[0m\u001b[0m\n\u001b[0;32m     89\u001b[0m         raise ValueError(\"Classification metrics can't handle a mix of {0} \"\n\u001b[1;32m---> 90\u001b[1;33m                          \"and {1} targets\".format(type_true, type_pred))\n\u001b[0m\u001b[0;32m     91\u001b[0m \u001b[1;33m\u001b[0m\u001b[0m\n\u001b[0;32m     92\u001b[0m     \u001b[1;31m# We can't have more than one value on y_type => The set is no more needed\u001b[0m\u001b[1;33m\u001b[0m\u001b[1;33m\u001b[0m\u001b[1;33m\u001b[0m\u001b[0m\n",
      "\u001b[1;31mValueError\u001b[0m: Classification metrics can't handle a mix of continuous and binary targets"
     ]
    }
   ],
   "source": [
    "opt_prob = None\n",
    "f1_max = 0\n",
    "\n",
    "for thresh in np.arange(0.1, 0.501, 0.01):\n",
    "    thresh = np.round(thresh, 2)\n",
    "    f1 = metrics.f1_score(y_test, (pred_test_y > thresh).astype(int))\n",
    "    print('F1 score at threshold {} is {}'.format(thresh, f1))\n",
    "    \n",
    "    if f1 > f1_max:\n",
    "        f1_max = f1\n",
    "        opt_prob = thresh\n",
    "        \n",
    "print('Optimal probabilty threshold is {} for maximum F1 score {}'.format(opt_prob, f1_max))"
   ]
  },
  {
   "cell_type": "code",
   "execution_count": null,
   "metadata": {},
   "outputs": [],
   "source": []
  }
 ],
 "metadata": {
  "kernelspec": {
   "display_name": "Python 3",
   "language": "python",
   "name": "python3"
  },
  "language_info": {
   "codemirror_mode": {
    "name": "ipython",
    "version": 3
   },
   "file_extension": ".py",
   "mimetype": "text/x-python",
   "name": "python",
   "nbconvert_exporter": "python",
   "pygments_lexer": "ipython3",
   "version": "3.7.10"
  }
 },
 "nbformat": 4,
 "nbformat_minor": 4
}
